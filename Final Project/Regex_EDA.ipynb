{
  "nbformat": 4,
  "nbformat_minor": 5,
  "metadata": {
    "kernelspec": {
      "display_name": "Python 3",
      "language": "python",
      "name": "python3"
    },
    "language_info": {
      "codemirror_mode": {
        "name": "ipython",
        "version": 3
      },
      "file_extension": ".py",
      "mimetype": "text/x-python",
      "name": "python",
      "nbconvert_exporter": "python",
      "pygments_lexer": "ipython3",
      "version": "3.8.8"
    },
    "colab": {
      "name": "Regex_EDA.ipynb",
      "provenance": []
    }
  },
  "cells": [
    {
      "cell_type": "code",
      "metadata": {
        "id": "bd50109d"
      },
      "source": [
        "# import libraries \n",
        "import pandas as pd # Import Pandas for data manipulation using dataframes\n",
        "import numpy as np # Import Numpy for data statistical analysis \n",
        "import matplotlib.pyplot as plt # Import matplotlib for data visualisation\n",
        "import seaborn as sns # Statistical data visualization"
      ],
      "id": "bd50109d",
      "execution_count": null,
      "outputs": []
    },
    {
      "cell_type": "code",
      "metadata": {
        "id": "1527a6d3",
        "colab": {
          "base_uri": "https://localhost:8080/"
        },
        "outputId": "eae48c1a-9bd5-4b30-ca46-87ac10c2f5c5"
      },
      "source": [
        "dr = pd.read_csv('amazon_reviews_1.csv')\n",
        "print(\"Data import successful\")\n",
        "\n",
        "dr.info() # checking null values"
      ],
      "id": "1527a6d3",
      "execution_count": null,
      "outputs": [
        {
          "output_type": "stream",
          "text": [
            "Data import successful\n",
            "<class 'pandas.core.frame.DataFrame'>\n",
            "RangeIndex: 10000 entries, 0 to 9999\n",
            "Data columns (total 16 columns):\n",
            " #   Column             Non-Null Count  Dtype \n",
            "---  ------             --------------  ----- \n",
            " 0   Unnamed: 0         10000 non-null  int64 \n",
            " 1   marketplace        10000 non-null  object\n",
            " 2   customer_id        10000 non-null  int64 \n",
            " 3   review_id          10000 non-null  object\n",
            " 4   product_id         10000 non-null  object\n",
            " 5   product_parent     10000 non-null  int64 \n",
            " 6   product_title      10000 non-null  object\n",
            " 7   product_category   10000 non-null  object\n",
            " 8   star_rating        10000 non-null  int64 \n",
            " 9   helpful_votes      10000 non-null  int64 \n",
            " 10  total_votes        10000 non-null  int64 \n",
            " 11  vine               10000 non-null  object\n",
            " 12  verified_purchase  10000 non-null  object\n",
            " 13  review_date        10000 non-null  object\n",
            " 14  review             9999 non-null   object\n",
            " 15  review_category    10000 non-null  int64 \n",
            "dtypes: int64(7), object(9)\n",
            "memory usage: 1.2+ MB\n"
          ],
          "name": "stdout"
        }
      ]
    },
    {
      "cell_type": "code",
      "metadata": {
        "id": "97c73e51",
        "colab": {
          "base_uri": "https://localhost:8080/"
        },
        "outputId": "995e437d-89a2-4a8d-a6a4-4573e0d16cc8"
      },
      "source": [
        "dr.isna().sum() # Review containing null values."
      ],
      "id": "97c73e51",
      "execution_count": null,
      "outputs": [
        {
          "output_type": "execute_result",
          "data": {
            "text/plain": [
              "Unnamed: 0           0\n",
              "marketplace          0\n",
              "customer_id          0\n",
              "review_id            0\n",
              "product_id           0\n",
              "product_parent       0\n",
              "product_title        0\n",
              "product_category     0\n",
              "star_rating          0\n",
              "helpful_votes        0\n",
              "total_votes          0\n",
              "vine                 0\n",
              "verified_purchase    0\n",
              "review_date          0\n",
              "review               1\n",
              "review_category      0\n",
              "dtype: int64"
            ]
          },
          "metadata": {
            "tags": []
          },
          "execution_count": 47
        }
      ]
    },
    {
      "cell_type": "code",
      "metadata": {
        "id": "db48afdb",
        "colab": {
          "base_uri": "https://localhost:8080/",
          "height": 980
        },
        "outputId": "2d3cf35d-48b8-48cb-bdc8-d3e44ae5fab4"
      },
      "source": [
        "dr1 = dr.dropna() #drop either row or columns with missing data\n",
        "dr1"
      ],
      "id": "db48afdb",
      "execution_count": null,
      "outputs": [
        {
          "output_type": "execute_result",
          "data": {
            "text/html": [
              "<div>\n",
              "<style scoped>\n",
              "    .dataframe tbody tr th:only-of-type {\n",
              "        vertical-align: middle;\n",
              "    }\n",
              "\n",
              "    .dataframe tbody tr th {\n",
              "        vertical-align: top;\n",
              "    }\n",
              "\n",
              "    .dataframe thead th {\n",
              "        text-align: right;\n",
              "    }\n",
              "</style>\n",
              "<table border=\"1\" class=\"dataframe\">\n",
              "  <thead>\n",
              "    <tr style=\"text-align: right;\">\n",
              "      <th></th>\n",
              "      <th>Unnamed: 0</th>\n",
              "      <th>marketplace</th>\n",
              "      <th>customer_id</th>\n",
              "      <th>review_id</th>\n",
              "      <th>product_id</th>\n",
              "      <th>product_parent</th>\n",
              "      <th>product_title</th>\n",
              "      <th>product_category</th>\n",
              "      <th>star_rating</th>\n",
              "      <th>helpful_votes</th>\n",
              "      <th>total_votes</th>\n",
              "      <th>vine</th>\n",
              "      <th>verified_purchase</th>\n",
              "      <th>review_date</th>\n",
              "      <th>review</th>\n",
              "      <th>review_category</th>\n",
              "    </tr>\n",
              "  </thead>\n",
              "  <tbody>\n",
              "    <tr>\n",
              "      <th>0</th>\n",
              "      <td>35311</td>\n",
              "      <td>UK</td>\n",
              "      <td>4652511</td>\n",
              "      <td>R2PF9XCB2AOY7C</td>\n",
              "      <td>B00MNYTWMI</td>\n",
              "      <td>174964168</td>\n",
              "      <td>Midnight Castle – A Free Hidden Object Mystery...</td>\n",
              "      <td>Mobile_Apps</td>\n",
              "      <td>5</td>\n",
              "      <td>0</td>\n",
              "      <td>1</td>\n",
              "      <td>N</td>\n",
              "      <td>Y</td>\n",
              "      <td>2014-09-16</td>\n",
              "      <td>Addictive game Very good game, the graphics ar...</td>\n",
              "      <td>1</td>\n",
              "    </tr>\n",
              "    <tr>\n",
              "      <th>1</th>\n",
              "      <td>44590</td>\n",
              "      <td>UK</td>\n",
              "      <td>8778070</td>\n",
              "      <td>R2OVRHVTCC7U18</td>\n",
              "      <td>B00I8Q77Y0</td>\n",
              "      <td>370420344</td>\n",
              "      <td>Flappy Wings (not Flappy Bird)</td>\n",
              "      <td>Mobile_Apps</td>\n",
              "      <td>2</td>\n",
              "      <td>1</td>\n",
              "      <td>2</td>\n",
              "      <td>N</td>\n",
              "      <td>Y</td>\n",
              "      <td>2014-02-16</td>\n",
              "      <td>Where to start? I came on here because I wante...</td>\n",
              "      <td>0</td>\n",
              "    </tr>\n",
              "    <tr>\n",
              "      <th>2</th>\n",
              "      <td>90295</td>\n",
              "      <td>UK</td>\n",
              "      <td>8476187</td>\n",
              "      <td>RRPSNSVU2RNE4</td>\n",
              "      <td>B008PEHK6U</td>\n",
              "      <td>173475712</td>\n",
              "      <td>Man of Steel [DVD]</td>\n",
              "      <td>Video DVD</td>\n",
              "      <td>3</td>\n",
              "      <td>1</td>\n",
              "      <td>5</td>\n",
              "      <td>N</td>\n",
              "      <td>N</td>\n",
              "      <td>2013-12-28</td>\n",
              "      <td>Really Disappointed in this Film I have to say...</td>\n",
              "      <td>0</td>\n",
              "    </tr>\n",
              "    <tr>\n",
              "      <th>3</th>\n",
              "      <td>38798</td>\n",
              "      <td>UK</td>\n",
              "      <td>4329864</td>\n",
              "      <td>R1WK44Y81XH276</td>\n",
              "      <td>B00NWLIW0E</td>\n",
              "      <td>13526192</td>\n",
              "      <td>Goat Simulator</td>\n",
              "      <td>Mobile_Apps</td>\n",
              "      <td>1</td>\n",
              "      <td>3</td>\n",
              "      <td>5</td>\n",
              "      <td>N</td>\n",
              "      <td>N</td>\n",
              "      <td>2014-12-26</td>\n",
              "      <td>Rubbish game When I tried to open it, it said ...</td>\n",
              "      <td>0</td>\n",
              "    </tr>\n",
              "    <tr>\n",
              "      <th>4</th>\n",
              "      <td>43364</td>\n",
              "      <td>UK</td>\n",
              "      <td>8080547</td>\n",
              "      <td>R2UL591NPU40SN</td>\n",
              "      <td>B00HRC40T6</td>\n",
              "      <td>887316735</td>\n",
              "      <td>Shadow Blade</td>\n",
              "      <td>Mobile_Apps</td>\n",
              "      <td>1</td>\n",
              "      <td>0</td>\n",
              "      <td>0</td>\n",
              "      <td>N</td>\n",
              "      <td>Y</td>\n",
              "      <td>2015-06-29</td>\n",
              "      <td>One Star Come on</td>\n",
              "      <td>0</td>\n",
              "    </tr>\n",
              "    <tr>\n",
              "      <th>...</th>\n",
              "      <td>...</td>\n",
              "      <td>...</td>\n",
              "      <td>...</td>\n",
              "      <td>...</td>\n",
              "      <td>...</td>\n",
              "      <td>...</td>\n",
              "      <td>...</td>\n",
              "      <td>...</td>\n",
              "      <td>...</td>\n",
              "      <td>...</td>\n",
              "      <td>...</td>\n",
              "      <td>...</td>\n",
              "      <td>...</td>\n",
              "      <td>...</td>\n",
              "      <td>...</td>\n",
              "      <td>...</td>\n",
              "    </tr>\n",
              "    <tr>\n",
              "      <th>9995</th>\n",
              "      <td>28832</td>\n",
              "      <td>UK</td>\n",
              "      <td>3958125</td>\n",
              "      <td>RUEJKMMT07CSA</td>\n",
              "      <td>B00DJFIMW6</td>\n",
              "      <td>271429756</td>\n",
              "      <td>Minion Rush: Despicable Me Official Game</td>\n",
              "      <td>Mobile_Apps</td>\n",
              "      <td>5</td>\n",
              "      <td>0</td>\n",
              "      <td>0</td>\n",
              "      <td>N</td>\n",
              "      <td>Y</td>\n",
              "      <td>2015-07-12</td>\n",
              "      <td>\u001a\u001a\u001a\u001a\u001a\u001a It's great😆</td>\n",
              "      <td>1</td>\n",
              "    </tr>\n",
              "    <tr>\n",
              "      <th>9996</th>\n",
              "      <td>18960</td>\n",
              "      <td>UK</td>\n",
              "      <td>21426274</td>\n",
              "      <td>R81EWRNK3IF2Y</td>\n",
              "      <td>0099579936</td>\n",
              "      <td>600633062</td>\n",
              "      <td>Fifty Shades of Grey: Book One of the Fifty Sh...</td>\n",
              "      <td>Books</td>\n",
              "      <td>1</td>\n",
              "      <td>0</td>\n",
              "      <td>0</td>\n",
              "      <td>N</td>\n",
              "      <td>Y</td>\n",
              "      <td>2015-05-07</td>\n",
              "      <td>Urrgh This really is appalling.  Somewhere on ...</td>\n",
              "      <td>0</td>\n",
              "    </tr>\n",
              "    <tr>\n",
              "      <th>9997</th>\n",
              "      <td>90892</td>\n",
              "      <td>UK</td>\n",
              "      <td>9430154</td>\n",
              "      <td>REJ2WD11F46SB</td>\n",
              "      <td>B00DQVSTCG</td>\n",
              "      <td>186107214</td>\n",
              "      <td>Mdna World Tour [Blu-ray] [2013] [Region Free]</td>\n",
              "      <td>Video DVD</td>\n",
              "      <td>2</td>\n",
              "      <td>0</td>\n",
              "      <td>1</td>\n",
              "      <td>N</td>\n",
              "      <td>Y</td>\n",
              "      <td>2013-09-13</td>\n",
              "      <td>Quite disappointed After waiting over a year, ...</td>\n",
              "      <td>0</td>\n",
              "    </tr>\n",
              "    <tr>\n",
              "      <th>9998</th>\n",
              "      <td>35244</td>\n",
              "      <td>UK</td>\n",
              "      <td>4652123</td>\n",
              "      <td>R1LBP8Z9FOQRDQ</td>\n",
              "      <td>B00DJFIMW6</td>\n",
              "      <td>271429756</td>\n",
              "      <td>Minion Rush: Despicable Me Official Game</td>\n",
              "      <td>Mobile_Apps</td>\n",
              "      <td>5</td>\n",
              "      <td>7</td>\n",
              "      <td>9</td>\n",
              "      <td>N</td>\n",
              "      <td>Y</td>\n",
              "      <td>2013-12-29</td>\n",
              "      <td>Rate Despicable minion rush is cool&lt;br /&gt;So co...</td>\n",
              "      <td>1</td>\n",
              "    </tr>\n",
              "    <tr>\n",
              "      <th>9999</th>\n",
              "      <td>9691</td>\n",
              "      <td>UK</td>\n",
              "      <td>7871164</td>\n",
              "      <td>R23010V0DJDG2Q</td>\n",
              "      <td>1405910259</td>\n",
              "      <td>758174477</td>\n",
              "      <td>Reflected in You</td>\n",
              "      <td>Books</td>\n",
              "      <td>5</td>\n",
              "      <td>0</td>\n",
              "      <td>0</td>\n",
              "      <td>N</td>\n",
              "      <td>Y</td>\n",
              "      <td>2014-11-20</td>\n",
              "      <td>Five Stars Great story</td>\n",
              "      <td>1</td>\n",
              "    </tr>\n",
              "  </tbody>\n",
              "</table>\n",
              "<p>9999 rows × 16 columns</p>\n",
              "</div>"
            ],
            "text/plain": [
              "      Unnamed: 0  ... review_category\n",
              "0          35311  ...               1\n",
              "1          44590  ...               0\n",
              "2          90295  ...               0\n",
              "3          38798  ...               0\n",
              "4          43364  ...               0\n",
              "...          ...  ...             ...\n",
              "9995       28832  ...               1\n",
              "9996       18960  ...               0\n",
              "9997       90892  ...               0\n",
              "9998       35244  ...               1\n",
              "9999        9691  ...               1\n",
              "\n",
              "[9999 rows x 16 columns]"
            ]
          },
          "metadata": {
            "tags": []
          },
          "execution_count": 48
        }
      ]
    },
    {
      "cell_type": "code",
      "metadata": {
        "id": "a7010d3b",
        "colab": {
          "base_uri": "https://localhost:8080/",
          "height": 512
        },
        "outputId": "e244210d-6f4a-4d3d-bd6a-4bb706209515"
      },
      "source": [
        "dr1.head()"
      ],
      "id": "a7010d3b",
      "execution_count": null,
      "outputs": [
        {
          "output_type": "execute_result",
          "data": {
            "text/html": [
              "<div>\n",
              "<style scoped>\n",
              "    .dataframe tbody tr th:only-of-type {\n",
              "        vertical-align: middle;\n",
              "    }\n",
              "\n",
              "    .dataframe tbody tr th {\n",
              "        vertical-align: top;\n",
              "    }\n",
              "\n",
              "    .dataframe thead th {\n",
              "        text-align: right;\n",
              "    }\n",
              "</style>\n",
              "<table border=\"1\" class=\"dataframe\">\n",
              "  <thead>\n",
              "    <tr style=\"text-align: right;\">\n",
              "      <th></th>\n",
              "      <th>Unnamed: 0</th>\n",
              "      <th>marketplace</th>\n",
              "      <th>customer_id</th>\n",
              "      <th>review_id</th>\n",
              "      <th>product_id</th>\n",
              "      <th>product_parent</th>\n",
              "      <th>product_title</th>\n",
              "      <th>product_category</th>\n",
              "      <th>star_rating</th>\n",
              "      <th>helpful_votes</th>\n",
              "      <th>total_votes</th>\n",
              "      <th>vine</th>\n",
              "      <th>verified_purchase</th>\n",
              "      <th>review_date</th>\n",
              "      <th>review</th>\n",
              "      <th>review_category</th>\n",
              "    </tr>\n",
              "  </thead>\n",
              "  <tbody>\n",
              "    <tr>\n",
              "      <th>0</th>\n",
              "      <td>35311</td>\n",
              "      <td>UK</td>\n",
              "      <td>4652511</td>\n",
              "      <td>R2PF9XCB2AOY7C</td>\n",
              "      <td>B00MNYTWMI</td>\n",
              "      <td>174964168</td>\n",
              "      <td>Midnight Castle – A Free Hidden Object Mystery...</td>\n",
              "      <td>Mobile_Apps</td>\n",
              "      <td>5</td>\n",
              "      <td>0</td>\n",
              "      <td>1</td>\n",
              "      <td>N</td>\n",
              "      <td>Y</td>\n",
              "      <td>2014-09-16</td>\n",
              "      <td>Addictive game Very good game, the graphics ar...</td>\n",
              "      <td>1</td>\n",
              "    </tr>\n",
              "    <tr>\n",
              "      <th>1</th>\n",
              "      <td>44590</td>\n",
              "      <td>UK</td>\n",
              "      <td>8778070</td>\n",
              "      <td>R2OVRHVTCC7U18</td>\n",
              "      <td>B00I8Q77Y0</td>\n",
              "      <td>370420344</td>\n",
              "      <td>Flappy Wings (not Flappy Bird)</td>\n",
              "      <td>Mobile_Apps</td>\n",
              "      <td>2</td>\n",
              "      <td>1</td>\n",
              "      <td>2</td>\n",
              "      <td>N</td>\n",
              "      <td>Y</td>\n",
              "      <td>2014-02-16</td>\n",
              "      <td>Where to start? I came on here because I wante...</td>\n",
              "      <td>0</td>\n",
              "    </tr>\n",
              "    <tr>\n",
              "      <th>2</th>\n",
              "      <td>90295</td>\n",
              "      <td>UK</td>\n",
              "      <td>8476187</td>\n",
              "      <td>RRPSNSVU2RNE4</td>\n",
              "      <td>B008PEHK6U</td>\n",
              "      <td>173475712</td>\n",
              "      <td>Man of Steel [DVD]</td>\n",
              "      <td>Video DVD</td>\n",
              "      <td>3</td>\n",
              "      <td>1</td>\n",
              "      <td>5</td>\n",
              "      <td>N</td>\n",
              "      <td>N</td>\n",
              "      <td>2013-12-28</td>\n",
              "      <td>Really Disappointed in this Film I have to say...</td>\n",
              "      <td>0</td>\n",
              "    </tr>\n",
              "    <tr>\n",
              "      <th>3</th>\n",
              "      <td>38798</td>\n",
              "      <td>UK</td>\n",
              "      <td>4329864</td>\n",
              "      <td>R1WK44Y81XH276</td>\n",
              "      <td>B00NWLIW0E</td>\n",
              "      <td>13526192</td>\n",
              "      <td>Goat Simulator</td>\n",
              "      <td>Mobile_Apps</td>\n",
              "      <td>1</td>\n",
              "      <td>3</td>\n",
              "      <td>5</td>\n",
              "      <td>N</td>\n",
              "      <td>N</td>\n",
              "      <td>2014-12-26</td>\n",
              "      <td>Rubbish game When I tried to open it, it said ...</td>\n",
              "      <td>0</td>\n",
              "    </tr>\n",
              "    <tr>\n",
              "      <th>4</th>\n",
              "      <td>43364</td>\n",
              "      <td>UK</td>\n",
              "      <td>8080547</td>\n",
              "      <td>R2UL591NPU40SN</td>\n",
              "      <td>B00HRC40T6</td>\n",
              "      <td>887316735</td>\n",
              "      <td>Shadow Blade</td>\n",
              "      <td>Mobile_Apps</td>\n",
              "      <td>1</td>\n",
              "      <td>0</td>\n",
              "      <td>0</td>\n",
              "      <td>N</td>\n",
              "      <td>Y</td>\n",
              "      <td>2015-06-29</td>\n",
              "      <td>One Star Come on</td>\n",
              "      <td>0</td>\n",
              "    </tr>\n",
              "  </tbody>\n",
              "</table>\n",
              "</div>"
            ],
            "text/plain": [
              "   Unnamed: 0  ... review_category\n",
              "0       35311  ...               1\n",
              "1       44590  ...               0\n",
              "2       90295  ...               0\n",
              "3       38798  ...               0\n",
              "4       43364  ...               0\n",
              "\n",
              "[5 rows x 16 columns]"
            ]
          },
          "metadata": {
            "tags": []
          },
          "execution_count": 49
        }
      ]
    },
    {
      "cell_type": "code",
      "metadata": {
        "id": "08408a23",
        "colab": {
          "base_uri": "https://localhost:8080/"
        },
        "outputId": "77b5f874-81e5-4973-be60-c4a685cb9ee0"
      },
      "source": [
        "dr1.keys()"
      ],
      "id": "08408a23",
      "execution_count": null,
      "outputs": [
        {
          "output_type": "execute_result",
          "data": {
            "text/plain": [
              "Index(['Unnamed: 0', 'marketplace', 'customer_id', 'review_id', 'product_id',\n",
              "       'product_parent', 'product_title', 'product_category', 'star_rating',\n",
              "       'helpful_votes', 'total_votes', 'vine', 'verified_purchase',\n",
              "       'review_date', 'review', 'review_category'],\n",
              "      dtype='object')"
            ]
          },
          "metadata": {
            "tags": []
          },
          "execution_count": 50
        }
      ]
    },
    {
      "cell_type": "code",
      "metadata": {
        "id": "77c1fcf2",
        "colab": {
          "base_uri": "https://localhost:8080/",
          "height": 495
        },
        "outputId": "3b0334b6-f2f0-4f0a-f1f2-e83c74c5ca6d"
      },
      "source": [
        "dr1.tail()"
      ],
      "id": "77c1fcf2",
      "execution_count": null,
      "outputs": [
        {
          "output_type": "execute_result",
          "data": {
            "text/html": [
              "<div>\n",
              "<style scoped>\n",
              "    .dataframe tbody tr th:only-of-type {\n",
              "        vertical-align: middle;\n",
              "    }\n",
              "\n",
              "    .dataframe tbody tr th {\n",
              "        vertical-align: top;\n",
              "    }\n",
              "\n",
              "    .dataframe thead th {\n",
              "        text-align: right;\n",
              "    }\n",
              "</style>\n",
              "<table border=\"1\" class=\"dataframe\">\n",
              "  <thead>\n",
              "    <tr style=\"text-align: right;\">\n",
              "      <th></th>\n",
              "      <th>Unnamed: 0</th>\n",
              "      <th>marketplace</th>\n",
              "      <th>customer_id</th>\n",
              "      <th>review_id</th>\n",
              "      <th>product_id</th>\n",
              "      <th>product_parent</th>\n",
              "      <th>product_title</th>\n",
              "      <th>product_category</th>\n",
              "      <th>star_rating</th>\n",
              "      <th>helpful_votes</th>\n",
              "      <th>total_votes</th>\n",
              "      <th>vine</th>\n",
              "      <th>verified_purchase</th>\n",
              "      <th>review_date</th>\n",
              "      <th>review</th>\n",
              "      <th>review_category</th>\n",
              "    </tr>\n",
              "  </thead>\n",
              "  <tbody>\n",
              "    <tr>\n",
              "      <th>9995</th>\n",
              "      <td>28832</td>\n",
              "      <td>UK</td>\n",
              "      <td>3958125</td>\n",
              "      <td>RUEJKMMT07CSA</td>\n",
              "      <td>B00DJFIMW6</td>\n",
              "      <td>271429756</td>\n",
              "      <td>Minion Rush: Despicable Me Official Game</td>\n",
              "      <td>Mobile_Apps</td>\n",
              "      <td>5</td>\n",
              "      <td>0</td>\n",
              "      <td>0</td>\n",
              "      <td>N</td>\n",
              "      <td>Y</td>\n",
              "      <td>2015-07-12</td>\n",
              "      <td>\u001a\u001a\u001a\u001a\u001a\u001a It's great😆</td>\n",
              "      <td>1</td>\n",
              "    </tr>\n",
              "    <tr>\n",
              "      <th>9996</th>\n",
              "      <td>18960</td>\n",
              "      <td>UK</td>\n",
              "      <td>21426274</td>\n",
              "      <td>R81EWRNK3IF2Y</td>\n",
              "      <td>0099579936</td>\n",
              "      <td>600633062</td>\n",
              "      <td>Fifty Shades of Grey: Book One of the Fifty Sh...</td>\n",
              "      <td>Books</td>\n",
              "      <td>1</td>\n",
              "      <td>0</td>\n",
              "      <td>0</td>\n",
              "      <td>N</td>\n",
              "      <td>Y</td>\n",
              "      <td>2015-05-07</td>\n",
              "      <td>Urrgh This really is appalling.  Somewhere on ...</td>\n",
              "      <td>0</td>\n",
              "    </tr>\n",
              "    <tr>\n",
              "      <th>9997</th>\n",
              "      <td>90892</td>\n",
              "      <td>UK</td>\n",
              "      <td>9430154</td>\n",
              "      <td>REJ2WD11F46SB</td>\n",
              "      <td>B00DQVSTCG</td>\n",
              "      <td>186107214</td>\n",
              "      <td>Mdna World Tour [Blu-ray] [2013] [Region Free]</td>\n",
              "      <td>Video DVD</td>\n",
              "      <td>2</td>\n",
              "      <td>0</td>\n",
              "      <td>1</td>\n",
              "      <td>N</td>\n",
              "      <td>Y</td>\n",
              "      <td>2013-09-13</td>\n",
              "      <td>Quite disappointed After waiting over a year, ...</td>\n",
              "      <td>0</td>\n",
              "    </tr>\n",
              "    <tr>\n",
              "      <th>9998</th>\n",
              "      <td>35244</td>\n",
              "      <td>UK</td>\n",
              "      <td>4652123</td>\n",
              "      <td>R1LBP8Z9FOQRDQ</td>\n",
              "      <td>B00DJFIMW6</td>\n",
              "      <td>271429756</td>\n",
              "      <td>Minion Rush: Despicable Me Official Game</td>\n",
              "      <td>Mobile_Apps</td>\n",
              "      <td>5</td>\n",
              "      <td>7</td>\n",
              "      <td>9</td>\n",
              "      <td>N</td>\n",
              "      <td>Y</td>\n",
              "      <td>2013-12-29</td>\n",
              "      <td>Rate Despicable minion rush is cool&lt;br /&gt;So co...</td>\n",
              "      <td>1</td>\n",
              "    </tr>\n",
              "    <tr>\n",
              "      <th>9999</th>\n",
              "      <td>9691</td>\n",
              "      <td>UK</td>\n",
              "      <td>7871164</td>\n",
              "      <td>R23010V0DJDG2Q</td>\n",
              "      <td>1405910259</td>\n",
              "      <td>758174477</td>\n",
              "      <td>Reflected in You</td>\n",
              "      <td>Books</td>\n",
              "      <td>5</td>\n",
              "      <td>0</td>\n",
              "      <td>0</td>\n",
              "      <td>N</td>\n",
              "      <td>Y</td>\n",
              "      <td>2014-11-20</td>\n",
              "      <td>Five Stars Great story</td>\n",
              "      <td>1</td>\n",
              "    </tr>\n",
              "  </tbody>\n",
              "</table>\n",
              "</div>"
            ],
            "text/plain": [
              "      Unnamed: 0  ... review_category\n",
              "9995       28832  ...               1\n",
              "9996       18960  ...               0\n",
              "9997       90892  ...               0\n",
              "9998       35244  ...               1\n",
              "9999        9691  ...               1\n",
              "\n",
              "[5 rows x 16 columns]"
            ]
          },
          "metadata": {
            "tags": []
          },
          "execution_count": 51
        }
      ]
    },
    {
      "cell_type": "code",
      "metadata": {
        "id": "88d7ed06",
        "colab": {
          "base_uri": "https://localhost:8080/"
        },
        "outputId": "949c03bf-22bb-4878-c227-4c439c40e9fb"
      },
      "source": [
        "dr1['review']"
      ],
      "id": "88d7ed06",
      "execution_count": null,
      "outputs": [
        {
          "output_type": "execute_result",
          "data": {
            "text/plain": [
              "0       Addictive game Very good game, the graphics ar...\n",
              "1       Where to start? I came on here because I wante...\n",
              "2       Really Disappointed in this Film I have to say...\n",
              "3       Rubbish game When I tried to open it, it said ...\n",
              "4                                        One Star Come on\n",
              "                              ...                        \n",
              "9995                                   \u001a\u001a\u001a\u001a\u001a\u001a It's great😆\n",
              "9996    Urrgh This really is appalling.  Somewhere on ...\n",
              "9997    Quite disappointed After waiting over a year, ...\n",
              "9998    Rate Despicable minion rush is cool<br />So co...\n",
              "9999                               Five Stars Great story\n",
              "Name: review, Length: 9999, dtype: object"
            ]
          },
          "metadata": {
            "tags": []
          },
          "execution_count": 52
        }
      ]
    },
    {
      "cell_type": "code",
      "metadata": {
        "id": "3a462bc1"
      },
      "source": [
        "# VISUALIZING THE DATA\n",
        "\n",
        "positive = dr1[dr1['verified_purchase']=='Y']\n",
        "negative = dr1[dr1['verified_purchase']=='N']"
      ],
      "id": "3a462bc1",
      "execution_count": null,
      "outputs": []
    },
    {
      "cell_type": "code",
      "metadata": {
        "id": "9cc741fe",
        "colab": {
          "base_uri": "https://localhost:8080/",
          "height": 980
        },
        "outputId": "3c52849c-c3fb-41bc-d1a7-e7281310c76e"
      },
      "source": [
        "negative"
      ],
      "id": "9cc741fe",
      "execution_count": null,
      "outputs": [
        {
          "output_type": "execute_result",
          "data": {
            "text/html": [
              "<div>\n",
              "<style scoped>\n",
              "    .dataframe tbody tr th:only-of-type {\n",
              "        vertical-align: middle;\n",
              "    }\n",
              "\n",
              "    .dataframe tbody tr th {\n",
              "        vertical-align: top;\n",
              "    }\n",
              "\n",
              "    .dataframe thead th {\n",
              "        text-align: right;\n",
              "    }\n",
              "</style>\n",
              "<table border=\"1\" class=\"dataframe\">\n",
              "  <thead>\n",
              "    <tr style=\"text-align: right;\">\n",
              "      <th></th>\n",
              "      <th>Unnamed: 0</th>\n",
              "      <th>marketplace</th>\n",
              "      <th>customer_id</th>\n",
              "      <th>review_id</th>\n",
              "      <th>product_id</th>\n",
              "      <th>product_parent</th>\n",
              "      <th>product_title</th>\n",
              "      <th>product_category</th>\n",
              "      <th>star_rating</th>\n",
              "      <th>helpful_votes</th>\n",
              "      <th>total_votes</th>\n",
              "      <th>vine</th>\n",
              "      <th>verified_purchase</th>\n",
              "      <th>review_date</th>\n",
              "      <th>review</th>\n",
              "      <th>review_category</th>\n",
              "    </tr>\n",
              "  </thead>\n",
              "  <tbody>\n",
              "    <tr>\n",
              "      <th>2</th>\n",
              "      <td>90295</td>\n",
              "      <td>UK</td>\n",
              "      <td>8476187</td>\n",
              "      <td>RRPSNSVU2RNE4</td>\n",
              "      <td>B008PEHK6U</td>\n",
              "      <td>173475712</td>\n",
              "      <td>Man of Steel [DVD]</td>\n",
              "      <td>Video DVD</td>\n",
              "      <td>3</td>\n",
              "      <td>1</td>\n",
              "      <td>5</td>\n",
              "      <td>N</td>\n",
              "      <td>N</td>\n",
              "      <td>2013-12-28</td>\n",
              "      <td>Really Disappointed in this Film I have to say...</td>\n",
              "      <td>0</td>\n",
              "    </tr>\n",
              "    <tr>\n",
              "      <th>3</th>\n",
              "      <td>38798</td>\n",
              "      <td>UK</td>\n",
              "      <td>4329864</td>\n",
              "      <td>R1WK44Y81XH276</td>\n",
              "      <td>B00NWLIW0E</td>\n",
              "      <td>13526192</td>\n",
              "      <td>Goat Simulator</td>\n",
              "      <td>Mobile_Apps</td>\n",
              "      <td>1</td>\n",
              "      <td>3</td>\n",
              "      <td>5</td>\n",
              "      <td>N</td>\n",
              "      <td>N</td>\n",
              "      <td>2014-12-26</td>\n",
              "      <td>Rubbish game When I tried to open it, it said ...</td>\n",
              "      <td>0</td>\n",
              "    </tr>\n",
              "    <tr>\n",
              "      <th>10</th>\n",
              "      <td>94032</td>\n",
              "      <td>UK</td>\n",
              "      <td>17605857</td>\n",
              "      <td>RPV0PQKID71J0</td>\n",
              "      <td>B0014E9174</td>\n",
              "      <td>846396403</td>\n",
              "      <td>Cloverfield [DVD]</td>\n",
              "      <td>Video DVD</td>\n",
              "      <td>1</td>\n",
              "      <td>14</td>\n",
              "      <td>41</td>\n",
              "      <td>N</td>\n",
              "      <td>N</td>\n",
              "      <td>2008-03-14</td>\n",
              "      <td>Hand-held shakey camera rubbish A big monster ...</td>\n",
              "      <td>0</td>\n",
              "    </tr>\n",
              "    <tr>\n",
              "      <th>17</th>\n",
              "      <td>66823</td>\n",
              "      <td>UK</td>\n",
              "      <td>19497591</td>\n",
              "      <td>RNU6D21CNOIVU</td>\n",
              "      <td>B002GZQYMK</td>\n",
              "      <td>849389845</td>\n",
              "      <td>The Resistance</td>\n",
              "      <td>Music</td>\n",
              "      <td>1</td>\n",
              "      <td>2</td>\n",
              "      <td>10</td>\n",
              "      <td>N</td>\n",
              "      <td>N</td>\n",
              "      <td>2011-12-23</td>\n",
              "      <td>A disappointingly flat album, that doesn't tak...</td>\n",
              "      <td>0</td>\n",
              "    </tr>\n",
              "    <tr>\n",
              "      <th>24</th>\n",
              "      <td>52257</td>\n",
              "      <td>UK</td>\n",
              "      <td>3605293</td>\n",
              "      <td>R2XLU5IMY44WR6</td>\n",
              "      <td>B0026JWDQW</td>\n",
              "      <td>4848225</td>\n",
              "      <td>Sunny Side Up</td>\n",
              "      <td>Music</td>\n",
              "      <td>4</td>\n",
              "      <td>0</td>\n",
              "      <td>0</td>\n",
              "      <td>N</td>\n",
              "      <td>N</td>\n",
              "      <td>2014-08-16</td>\n",
              "      <td>Four Stars Excellent</td>\n",
              "      <td>1</td>\n",
              "    </tr>\n",
              "    <tr>\n",
              "      <th>...</th>\n",
              "      <td>...</td>\n",
              "      <td>...</td>\n",
              "      <td>...</td>\n",
              "      <td>...</td>\n",
              "      <td>...</td>\n",
              "      <td>...</td>\n",
              "      <td>...</td>\n",
              "      <td>...</td>\n",
              "      <td>...</td>\n",
              "      <td>...</td>\n",
              "      <td>...</td>\n",
              "      <td>...</td>\n",
              "      <td>...</td>\n",
              "      <td>...</td>\n",
              "      <td>...</td>\n",
              "      <td>...</td>\n",
              "    </tr>\n",
              "    <tr>\n",
              "      <th>9975</th>\n",
              "      <td>90153</td>\n",
              "      <td>UK</td>\n",
              "      <td>8203815</td>\n",
              "      <td>R23GUDRQV2QD05</td>\n",
              "      <td>B0001EYT2A</td>\n",
              "      <td>393238365</td>\n",
              "      <td>The Good, The Bad and The Ugly - 2 Disc Specia...</td>\n",
              "      <td>Video DVD</td>\n",
              "      <td>2</td>\n",
              "      <td>3</td>\n",
              "      <td>12</td>\n",
              "      <td>N</td>\n",
              "      <td>N</td>\n",
              "      <td>2013-07-22</td>\n",
              "      <td>Not Good.Just Bad and Ugly.Easily the worst in...</td>\n",
              "      <td>0</td>\n",
              "    </tr>\n",
              "    <tr>\n",
              "      <th>9976</th>\n",
              "      <td>16498</td>\n",
              "      <td>UK</td>\n",
              "      <td>18717970</td>\n",
              "      <td>R1EW4HGCV83ES6</td>\n",
              "      <td>1444723472</td>\n",
              "      <td>626565549</td>\n",
              "      <td>The Dark Tower IV: Wizard and Glass: (Volume 4)</td>\n",
              "      <td>Books</td>\n",
              "      <td>3</td>\n",
              "      <td>0</td>\n",
              "      <td>0</td>\n",
              "      <td>N</td>\n",
              "      <td>N</td>\n",
              "      <td>2015-01-13</td>\n",
              "      <td>I was disappointed that the front cover was da...</td>\n",
              "      <td>0</td>\n",
              "    </tr>\n",
              "    <tr>\n",
              "      <th>9978</th>\n",
              "      <td>64845</td>\n",
              "      <td>UK</td>\n",
              "      <td>13852865</td>\n",
              "      <td>RB83OXWNNUL44</td>\n",
              "      <td>B005R5U5B2</td>\n",
              "      <td>403237765</td>\n",
              "      <td>Up All Night</td>\n",
              "      <td>Music</td>\n",
              "      <td>2</td>\n",
              "      <td>1</td>\n",
              "      <td>6</td>\n",
              "      <td>N</td>\n",
              "      <td>N</td>\n",
              "      <td>2012-02-28</td>\n",
              "      <td>Downhill Slope Of what Ive heard of One Direct...</td>\n",
              "      <td>0</td>\n",
              "    </tr>\n",
              "    <tr>\n",
              "      <th>9981</th>\n",
              "      <td>16551</td>\n",
              "      <td>UK</td>\n",
              "      <td>18798533</td>\n",
              "      <td>R3861JQSUJ9KJK</td>\n",
              "      <td>071815780X</td>\n",
              "      <td>898243667</td>\n",
              "      <td>Jamie's 15-Minute Meals</td>\n",
              "      <td>Books</td>\n",
              "      <td>3</td>\n",
              "      <td>1</td>\n",
              "      <td>1</td>\n",
              "      <td>N</td>\n",
              "      <td>N</td>\n",
              "      <td>2014-07-04</td>\n",
              "      <td>Ok book........ I watched a few of the 15 minu...</td>\n",
              "      <td>0</td>\n",
              "    </tr>\n",
              "    <tr>\n",
              "      <th>9993</th>\n",
              "      <td>23513</td>\n",
              "      <td>UK</td>\n",
              "      <td>26391639</td>\n",
              "      <td>R2JAW33OUABTC8</td>\n",
              "      <td>0330485385</td>\n",
              "      <td>784206304</td>\n",
              "      <td>The Lovely Bones</td>\n",
              "      <td>Books</td>\n",
              "      <td>1</td>\n",
              "      <td>1</td>\n",
              "      <td>3</td>\n",
              "      <td>N</td>\n",
              "      <td>N</td>\n",
              "      <td>2010-03-13</td>\n",
              "      <td>The Lovely Bore This is a quite astonishingly ...</td>\n",
              "      <td>0</td>\n",
              "    </tr>\n",
              "  </tbody>\n",
              "</table>\n",
              "<p>1881 rows × 16 columns</p>\n",
              "</div>"
            ],
            "text/plain": [
              "      Unnamed: 0  ... review_category\n",
              "2          90295  ...               0\n",
              "3          38798  ...               0\n",
              "10         94032  ...               0\n",
              "17         66823  ...               0\n",
              "24         52257  ...               1\n",
              "...          ...  ...             ...\n",
              "9975       90153  ...               0\n",
              "9976       16498  ...               0\n",
              "9978       64845  ...               0\n",
              "9981       16551  ...               0\n",
              "9993       23513  ...               0\n",
              "\n",
              "[1881 rows x 16 columns]"
            ]
          },
          "metadata": {
            "tags": []
          },
          "execution_count": 54
        }
      ]
    },
    {
      "cell_type": "code",
      "metadata": {
        "id": "ee73e2cd",
        "colab": {
          "base_uri": "https://localhost:8080/",
          "height": 355
        },
        "outputId": "dab6f096-dcdc-43dc-fa5a-46dc32b9b635"
      },
      "source": [
        "sns.countplot(dr1['verified_purchase'], label = \"Count\")"
      ],
      "id": "ee73e2cd",
      "execution_count": null,
      "outputs": [
        {
          "output_type": "stream",
          "text": [
            "/usr/local/lib/python3.7/dist-packages/seaborn/_decorators.py:43: FutureWarning: Pass the following variable as a keyword arg: x. From version 0.12, the only valid positional argument will be `data`, and passing other arguments without an explicit keyword will result in an error or misinterpretation.\n",
            "  FutureWarning\n"
          ],
          "name": "stderr"
        },
        {
          "output_type": "execute_result",
          "data": {
            "text/plain": [
              "<matplotlib.axes._subplots.AxesSubplot at 0x7f4efbe95dd0>"
            ]
          },
          "metadata": {
            "tags": []
          },
          "execution_count": 55
        },
        {
          "output_type": "display_data",
          "data": {
            "image/png": "[encoded data removed]",
            "text/plain": [
              "<Figure size 432x288 with 1 Axes>"
            ]
          },
          "metadata": {
            "tags": [],
            "needs_background": "light"
          }
        }
      ]
    },
    {
      "cell_type": "code",
      "metadata": {
        "id": "c1760d2c",
        "colab": {
          "base_uri": "https://localhost:8080/",
          "height": 298
        },
        "outputId": "68a5b5b9-571f-4d4a-cc2f-3691b13c0640"
      },
      "source": [
        "sns.countplot(x = 'star_rating', data = dr1)"
      ],
      "id": "c1760d2c",
      "execution_count": null,
      "outputs": [
        {
          "output_type": "execute_result",
          "data": {
            "text/plain": [
              "<matplotlib.axes._subplots.AxesSubplot at 0x7f4efca36e50>"
            ]
          },
          "metadata": {
            "tags": []
          },
          "execution_count": 56
        },
        {
          "output_type": "display_data",
          "data": {
            "image/png": "[encoded data removed]",
            "text/plain": [
              "<Figure size 432x288 with 1 Axes>"
            ]
          },
          "metadata": {
            "tags": [],
            "needs_background": "light"
          }
        }
      ]
    },
    {
      "cell_type": "code",
      "metadata": {
        "id": "942d3993",
        "colab": {
          "base_uri": "https://localhost:8080/",
          "height": 283
        },
        "outputId": "0fcdd96e-d60e-49fc-e49c-e10d3a7ce0d0"
      },
      "source": [
        "dr1['star_rating'].hist(bins = 5)"
      ],
      "id": "942d3993",
      "execution_count": null,
      "outputs": [
        {
          "output_type": "execute_result",
          "data": {
            "text/plain": [
              "<matplotlib.axes._subplots.AxesSubplot at 0x7f4efbda3350>"
            ]
          },
          "metadata": {
            "tags": []
          },
          "execution_count": 57
        },
        {
          "output_type": "display_data",
          "data": {
            "image/png": "[encoded data removed]",
            "text/plain": [
              "<Figure size 432x288 with 1 Axes>"
            ]
          },
          "metadata": {
            "tags": [],
            "needs_background": "light"
          }
        }
      ]
    },
    {
      "cell_type": "code",
      "metadata": {
        "id": "41260e8d",
        "colab": {
          "base_uri": "https://localhost:8080/",
          "height": 535
        },
        "outputId": "2b23c57a-a885-4ce8-e537-95bce2c86942"
      },
      "source": [
        "plt.figure(figsize = (40,15))\n",
        "sns.barplot(x = 'product_category', y='star_rating', data=dr1, palette = 'deep')"
      ],
      "id": "41260e8d",
      "execution_count": null,
      "outputs": [
        {
          "output_type": "execute_result",
          "data": {
            "text/plain": [
              "<matplotlib.axes._subplots.AxesSubplot at 0x7f4efbdf8f50>"
            ]
          },
          "metadata": {
            "tags": []
          },
          "execution_count": 58
        },
        {
          "output_type": "display_data",
          "data": {
            "image/png": "[encoded data removed]",
            "text/plain": [
              "<Figure size 2880x1080 with 1 Axes>"
            ]
          },
          "metadata": {
            "tags": [],
            "needs_background": "light"
          }
        }
      ]
    },
    {
      "cell_type": "code",
      "metadata": {
        "id": "7622177f"
      },
      "source": [
        "# Word count\n",
        "words = dr1['review'].tolist()"
      ],
      "id": "7622177f",
      "execution_count": null,
      "outputs": []
    },
    {
      "cell_type": "code",
      "metadata": {
        "id": "7c0ed6ea",
        "colab": {
          "base_uri": "https://localhost:8080/"
        },
        "outputId": "8d513999-87da-4363-cf5c-df329fb1b97a"
      },
      "source": [
        "len(words)"
      ],
      "id": "7c0ed6ea",
      "execution_count": null,
      "outputs": [
        {
          "output_type": "execute_result",
          "data": {
            "text/plain": [
              "9999"
            ]
          },
          "metadata": {
            "tags": []
          },
          "execution_count": 60
        }
      ]
    },
    {
      "cell_type": "markdown",
      "metadata": {
        "id": "03UO0_MGn3AP"
      },
      "source": [
        "###Taking Useful Data from Dataset"
      ],
      "id": "03UO0_MGn3AP"
    },
    {
      "cell_type": "code",
      "metadata": {
        "id": "JhU_bOIPoMaL",
        "colab": {
          "base_uri": "https://localhost:8080/",
          "height": 407
        },
        "outputId": "1d2b4fe4-b45b-4b0a-f9ac-66f090a4f81a"
      },
      "source": [
        "dr1[['review', 'review_category']]"
      ],
      "id": "JhU_bOIPoMaL",
      "execution_count": null,
      "outputs": [
        {
          "output_type": "execute_result",
          "data": {
            "text/html": [
              "<div>\n",
              "<style scoped>\n",
              "    .dataframe tbody tr th:only-of-type {\n",
              "        vertical-align: middle;\n",
              "    }\n",
              "\n",
              "    .dataframe tbody tr th {\n",
              "        vertical-align: top;\n",
              "    }\n",
              "\n",
              "    .dataframe thead th {\n",
              "        text-align: right;\n",
              "    }\n",
              "</style>\n",
              "<table border=\"1\" class=\"dataframe\">\n",
              "  <thead>\n",
              "    <tr style=\"text-align: right;\">\n",
              "      <th></th>\n",
              "      <th>review</th>\n",
              "      <th>review_category</th>\n",
              "    </tr>\n",
              "  </thead>\n",
              "  <tbody>\n",
              "    <tr>\n",
              "      <th>0</th>\n",
              "      <td>Addictive game Very good game, the graphics ar...</td>\n",
              "      <td>1</td>\n",
              "    </tr>\n",
              "    <tr>\n",
              "      <th>1</th>\n",
              "      <td>Where to start? I came on here because I wante...</td>\n",
              "      <td>0</td>\n",
              "    </tr>\n",
              "    <tr>\n",
              "      <th>2</th>\n",
              "      <td>Really Disappointed in this Film I have to say...</td>\n",
              "      <td>0</td>\n",
              "    </tr>\n",
              "    <tr>\n",
              "      <th>3</th>\n",
              "      <td>Rubbish game When I tried to open it, it said ...</td>\n",
              "      <td>0</td>\n",
              "    </tr>\n",
              "    <tr>\n",
              "      <th>4</th>\n",
              "      <td>One Star Come on</td>\n",
              "      <td>0</td>\n",
              "    </tr>\n",
              "    <tr>\n",
              "      <th>...</th>\n",
              "      <td>...</td>\n",
              "      <td>...</td>\n",
              "    </tr>\n",
              "    <tr>\n",
              "      <th>9995</th>\n",
              "      <td>\u001a\u001a\u001a\u001a\u001a\u001a It's great😆</td>\n",
              "      <td>1</td>\n",
              "    </tr>\n",
              "    <tr>\n",
              "      <th>9996</th>\n",
              "      <td>Urrgh This really is appalling.  Somewhere on ...</td>\n",
              "      <td>0</td>\n",
              "    </tr>\n",
              "    <tr>\n",
              "      <th>9997</th>\n",
              "      <td>Quite disappointed After waiting over a year, ...</td>\n",
              "      <td>0</td>\n",
              "    </tr>\n",
              "    <tr>\n",
              "      <th>9998</th>\n",
              "      <td>Rate Despicable minion rush is cool&lt;br /&gt;So co...</td>\n",
              "      <td>1</td>\n",
              "    </tr>\n",
              "    <tr>\n",
              "      <th>9999</th>\n",
              "      <td>Five Stars Great story</td>\n",
              "      <td>1</td>\n",
              "    </tr>\n",
              "  </tbody>\n",
              "</table>\n",
              "<p>9999 rows × 2 columns</p>\n",
              "</div>"
            ],
            "text/plain": [
              "                                                 review  review_category\n",
              "0     Addictive game Very good game, the graphics ar...                1\n",
              "1     Where to start? I came on here because I wante...                0\n",
              "2     Really Disappointed in this Film I have to say...                0\n",
              "3     Rubbish game When I tried to open it, it said ...                0\n",
              "4                                      One Star Come on                0\n",
              "...                                                 ...              ...\n",
              "9995                                 \u001a\u001a\u001a\u001a\u001a\u001a It's great😆                1\n",
              "9996  Urrgh This really is appalling.  Somewhere on ...                0\n",
              "9997  Quite disappointed After waiting over a year, ...                0\n",
              "9998  Rate Despicable minion rush is cool<br />So co...                1\n",
              "9999                             Five Stars Great story                1\n",
              "\n",
              "[9999 rows x 2 columns]"
            ]
          },
          "metadata": {
            "tags": []
          },
          "execution_count": 70
        }
      ]
    },
    {
      "cell_type": "code",
      "metadata": {
        "id": "EY9NeiFAdD0v",
        "trusted": true,
        "colab": {
          "base_uri": "https://localhost:8080/",
          "height": 289
        },
        "outputId": "8aadd0e3-8b1d-42cd-813d-4fc54311c8b0"
      },
      "source": [
        "# Adding column names to the dataframe\n",
        "#data = dr1[['review', 'review_category']]\n",
        "dr1.rename(columns = {'review':'Review','review_category':'Sentiment'} , inplace = True)\n",
        "#columnName = ['Review','Sentiment']\n",
        "#dr1.columns = columnName\n",
        "dr2 = dr1[['Review','Sentiment']]\n",
        "dr2.head()"
      ],
      "id": "EY9NeiFAdD0v",
      "execution_count": null,
      "outputs": [
        {
          "output_type": "stream",
          "text": [
            "/usr/local/lib/python3.7/dist-packages/pandas/core/frame.py:4308: SettingWithCopyWarning: \n",
            "A value is trying to be set on a copy of a slice from a DataFrame\n",
            "\n",
            "See the caveats in the documentation: https://pandas.pydata.org/pandas-docs/stable/user_guide/indexing.html#returning-a-view-versus-a-copy\n",
            "  errors=errors,\n"
          ],
          "name": "stderr"
        },
        {
          "output_type": "execute_result",
          "data": {
            "text/html": [
              "<div>\n",
              "<style scoped>\n",
              "    .dataframe tbody tr th:only-of-type {\n",
              "        vertical-align: middle;\n",
              "    }\n",
              "\n",
              "    .dataframe tbody tr th {\n",
              "        vertical-align: top;\n",
              "    }\n",
              "\n",
              "    .dataframe thead th {\n",
              "        text-align: right;\n",
              "    }\n",
              "</style>\n",
              "<table border=\"1\" class=\"dataframe\">\n",
              "  <thead>\n",
              "    <tr style=\"text-align: right;\">\n",
              "      <th></th>\n",
              "      <th>Review</th>\n",
              "      <th>Sentiment</th>\n",
              "    </tr>\n",
              "  </thead>\n",
              "  <tbody>\n",
              "    <tr>\n",
              "      <th>0</th>\n",
              "      <td>Addictive game Very good game, the graphics ar...</td>\n",
              "      <td>1</td>\n",
              "    </tr>\n",
              "    <tr>\n",
              "      <th>1</th>\n",
              "      <td>Where to start? I came on here because I wante...</td>\n",
              "      <td>0</td>\n",
              "    </tr>\n",
              "    <tr>\n",
              "      <th>2</th>\n",
              "      <td>Really Disappointed in this Film I have to say...</td>\n",
              "      <td>0</td>\n",
              "    </tr>\n",
              "    <tr>\n",
              "      <th>3</th>\n",
              "      <td>Rubbish game When I tried to open it, it said ...</td>\n",
              "      <td>0</td>\n",
              "    </tr>\n",
              "    <tr>\n",
              "      <th>4</th>\n",
              "      <td>One Star Come on</td>\n",
              "      <td>0</td>\n",
              "    </tr>\n",
              "  </tbody>\n",
              "</table>\n",
              "</div>"
            ],
            "text/plain": [
              "                                              Review  Sentiment\n",
              "0  Addictive game Very good game, the graphics ar...          1\n",
              "1  Where to start? I came on here because I wante...          0\n",
              "2  Really Disappointed in this Film I have to say...          0\n",
              "3  Rubbish game When I tried to open it, it said ...          0\n",
              "4                                   One Star Come on          0"
            ]
          },
          "metadata": {
            "tags": []
          },
          "execution_count": 71
        }
      ]
    },
    {
      "cell_type": "code",
      "metadata": {
        "id": "TXDVyjLoxylQ",
        "colab": {
          "base_uri": "https://localhost:8080/",
          "height": 354
        },
        "outputId": "c2f300a8-31bb-40c1-dd3d-160e18cb0871"
      },
      "source": [
        "sns.countplot(dr2['Sentiment'], label = \"Count\")"
      ],
      "id": "TXDVyjLoxylQ",
      "execution_count": null,
      "outputs": [
        {
          "output_type": "stream",
          "text": [
            "/usr/local/lib/python3.7/dist-packages/seaborn/_decorators.py:43: FutureWarning: Pass the following variable as a keyword arg: x. From version 0.12, the only valid positional argument will be `data`, and passing other arguments without an explicit keyword will result in an error or misinterpretation.\n",
            "  FutureWarning\n"
          ],
          "name": "stderr"
        },
        {
          "output_type": "execute_result",
          "data": {
            "text/plain": [
              "<matplotlib.axes._subplots.AxesSubplot at 0x7f4efea674d0>"
            ]
          },
          "metadata": {
            "tags": []
          },
          "execution_count": 73
        },
        {
          "output_type": "display_data",
          "data": {
            "image/png": "[encoded data removed]",
            "text/plain": [
              "<Figure size 432x288 with 1 Axes>"
            ]
          },
          "metadata": {
            "tags": [],
            "needs_background": "light"
          }
        }
      ]
    }
  ]
}