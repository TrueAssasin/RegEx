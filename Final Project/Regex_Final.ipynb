{
  "nbformat": 4,
  "nbformat_minor": 0,
  "metadata": {
    "kernelspec": {
      "display_name": "Python 3",
      "language": "python",
      "name": "python3"
    },
    "language_info": {
      "name": "python",
      "version": "3.6.6",
      "mimetype": "text/x-python",
      "codemirror_mode": {
        "name": "ipython",
        "version": 3
      },
      "pygments_lexer": "ipython3",
      "nbconvert_exporter": "python",
      "file_extension": ".py"
    },
    "colab": {
      "name": "Regex_Final.ipynb",
      "provenance": [],
      "collapsed_sections": []
    }
  },
  "cells": [
    {
      "cell_type": "code",
      "metadata": {
        "_uuid": "8f2839f25d086af736a60e9eeb907d3b93b6e0e5",
        "_cell_guid": "b1076dfc-b9ad-4769-8c92-a6c4dae69d19",
        "trusted": true,
        "colab": {
          "base_uri": "https://localhost:8080/"
        },
        "id": "3-bDChsZXcsv",
        "outputId": "27238fab-5bbd-4c1a-e5bc-ec4895c3d1e5"
      },
      "source": [
        "# This Python 3 environment comes with many helpful analytics libraries installed\n",
        "# It is defined by the kaggle/python docker image: https://github.com/kaggle/docker-python\n",
        "# For example, here's several helpful packages to load in \n",
        "\n",
        "import numpy as np # linear algebra\n",
        "import pandas as pd # data processing, CSV file I/O (e.g. pd.read_csv)\n",
        "\n",
        "\n",
        "# Setup Installing nltk\n",
        "!pip install -q wordcloud\n",
        "import wordcloud\n",
        "\n",
        "import nltk\n",
        "nltk.download('stopwords')\n",
        "nltk.download('wordnet')\n",
        "nltk.download('punkt')\n",
        "nltk.download('averaged_perceptron_tagger')"
      ],
      "execution_count": 103,
      "outputs": [
        {
          "output_type": "stream",
          "text": [
            "[nltk_data] Downloading package stopwords to /root/nltk_data...\n",
            "[nltk_data]   Package stopwords is already up-to-date!\n",
            "[nltk_data] Downloading package wordnet to /root/nltk_data...\n",
            "[nltk_data]   Package wordnet is already up-to-date!\n",
            "[nltk_data] Downloading package punkt to /root/nltk_data...\n",
            "[nltk_data]   Package punkt is already up-to-date!\n",
            "[nltk_data] Downloading package averaged_perceptron_tagger to\n",
            "[nltk_data]     /root/nltk_data...\n",
            "[nltk_data]   Package averaged_perceptron_tagger is already up-to-\n",
            "[nltk_data]       date!\n"
          ],
          "name": "stdout"
        },
        {
          "output_type": "execute_result",
          "data": {
            "text/plain": [
              "True"
            ]
          },
          "metadata": {
            "tags": []
          },
          "execution_count": 103
        }
      ]
    },
    {
      "cell_type": "code",
      "metadata": {
        "_cell_guid": "79c7e3d0-c299-4dcb-8224-4455121ee9b0",
        "_uuid": "d629ff2d2480ee46fbb7e2d37f6b5fab8052498a",
        "trusted": true,
        "id": "aiZnSfbTXcsy",
        "colab": {
          "base_uri": "https://localhost:8080/",
          "height": 204
        },
        "outputId": "12a55383-2d31-475d-8f04-90018e6c8c7f"
      },
      "source": [
        "import pandas as pd\n",
        "\n",
        "amazon_file = 'amazon_file.csv'\n",
        "df = pd.read_csv(amazon_file)\n",
        "\n",
        "df.head()"
      ],
      "execution_count": 104,
      "outputs": [
        {
          "output_type": "execute_result",
          "data": {
            "text/html": [
              "<div>\n",
              "<style scoped>\n",
              "    .dataframe tbody tr th:only-of-type {\n",
              "        vertical-align: middle;\n",
              "    }\n",
              "\n",
              "    .dataframe tbody tr th {\n",
              "        vertical-align: top;\n",
              "    }\n",
              "\n",
              "    .dataframe thead th {\n",
              "        text-align: right;\n",
              "    }\n",
              "</style>\n",
              "<table border=\"1\" class=\"dataframe\">\n",
              "  <thead>\n",
              "    <tr style=\"text-align: right;\">\n",
              "      <th></th>\n",
              "      <th>comments</th>\n",
              "      <th>0/1</th>\n",
              "    </tr>\n",
              "  </thead>\n",
              "  <tbody>\n",
              "    <tr>\n",
              "      <th>0</th>\n",
              "      <td>Addictive game Very good game, the graphics ar...</td>\n",
              "      <td>1</td>\n",
              "    </tr>\n",
              "    <tr>\n",
              "      <th>1</th>\n",
              "      <td>Where to start? I came on here because I wante...</td>\n",
              "      <td>0</td>\n",
              "    </tr>\n",
              "    <tr>\n",
              "      <th>2</th>\n",
              "      <td>Really Disappointed in this Film I have to say...</td>\n",
              "      <td>0</td>\n",
              "    </tr>\n",
              "    <tr>\n",
              "      <th>3</th>\n",
              "      <td>Rubbish game When I tried to open it, it said ...</td>\n",
              "      <td>0</td>\n",
              "    </tr>\n",
              "    <tr>\n",
              "      <th>4</th>\n",
              "      <td>One Star Come on</td>\n",
              "      <td>0</td>\n",
              "    </tr>\n",
              "  </tbody>\n",
              "</table>\n",
              "</div>"
            ],
            "text/plain": [
              "                                            comments  0/1\n",
              "0  Addictive game Very good game, the graphics ar...    1\n",
              "1  Where to start? I came on here because I wante...    0\n",
              "2  Really Disappointed in this Film I have to say...    0\n",
              "3  Rubbish game When I tried to open it, it said ...    0\n",
              "4                                   One Star Come on    0"
            ]
          },
          "metadata": {
            "tags": []
          },
          "execution_count": 104
        }
      ]
    },
    {
      "cell_type": "markdown",
      "metadata": {
        "_uuid": "f87a7b394972c496f976f9e53b97bb19856b0792",
        "id": "bprsZDxQXcsy"
      },
      "source": [
        "# 1. Data Exploration"
      ]
    },
    {
      "cell_type": "markdown",
      "metadata": {
        "_uuid": "36effffeeb36cb859662f80c0435df0d08d3c5b7",
        "id": "2wJ8ss_-Xcsy"
      },
      "source": [
        "We have to make sure there aren't any null values."
      ]
    },
    {
      "cell_type": "code",
      "metadata": {
        "trusted": true,
        "_uuid": "a5ce615a2c63af19507db70360b3072d321d5f80",
        "colab": {
          "base_uri": "https://localhost:8080/"
        },
        "id": "bdO1rATdXcsz",
        "outputId": "e501ad8b-2fd8-4c5f-f0f7-5f1a6682110e"
      },
      "source": [
        "pd.isnull(df).any()"
      ],
      "execution_count": 105,
      "outputs": [
        {
          "output_type": "execute_result",
          "data": {
            "text/plain": [
              "comments    False\n",
              "0/1         False\n",
              "dtype: bool"
            ]
          },
          "metadata": {
            "tags": []
          },
          "execution_count": 105
        }
      ]
    },
    {
      "cell_type": "markdown",
      "metadata": {
        "_uuid": "7fd3b2a292888ac8917ed631e00be5362328a414",
        "id": "TvktUKGNXcsz"
      },
      "source": [
        "At this point, we are going to figure out how many comments are labelled positive and negative."
      ]
    },
    {
      "cell_type": "code",
      "metadata": {
        "trusted": true,
        "_uuid": "f9313543d9ad3d14ed303296a5cfbb2241c0cf56",
        "colab": {
          "base_uri": "https://localhost:8080/"
        },
        "id": "cVEz50hSXcsz",
        "outputId": "21fa896e-315d-45a2-e03f-4c7885399a41"
      },
      "source": [
        "df['0/1'].unique()"
      ],
      "execution_count": 106,
      "outputs": [
        {
          "output_type": "execute_result",
          "data": {
            "text/plain": [
              "array([1, 0])"
            ]
          },
          "metadata": {
            "tags": []
          },
          "execution_count": 106
        }
      ]
    },
    {
      "cell_type": "code",
      "metadata": {
        "trusted": true,
        "_uuid": "eab4a67591438e45327f39cc335579704b034b8c",
        "colab": {
          "base_uri": "https://localhost:8080/"
        },
        "id": "GNiwyW9eXcs0",
        "outputId": "c9b5e486-dca1-4444-f16b-b9422d2c8104"
      },
      "source": [
        "df['0/1'].value_counts()"
      ],
      "execution_count": 107,
      "outputs": [
        {
          "output_type": "execute_result",
          "data": {
            "text/plain": [
              "0    5046\n",
              "1    4953\n",
              "Name: 0/1, dtype: int64"
            ]
          },
          "metadata": {
            "tags": []
          },
          "execution_count": 107
        }
      ]
    },
    {
      "cell_type": "code",
      "metadata": {
        "trusted": true,
        "_uuid": "ab6269a192aaaddeba1f50eda9701b0de60b5e37",
        "colab": {
          "base_uri": "https://localhost:8080/"
        },
        "id": "9-TXgcHvXcs0",
        "outputId": "5074818a-1cbc-4833-f63b-7740fb2972be"
      },
      "source": [
        "df.info()"
      ],
      "execution_count": 108,
      "outputs": [
        {
          "output_type": "stream",
          "text": [
            "<class 'pandas.core.frame.DataFrame'>\n",
            "RangeIndex: 9999 entries, 0 to 9998\n",
            "Data columns (total 2 columns):\n",
            " #   Column    Non-Null Count  Dtype \n",
            "---  ------    --------------  ----- \n",
            " 0   comments  9999 non-null   object\n",
            " 1   0/1       9999 non-null   int64 \n",
            "dtypes: int64(1), object(1)\n",
            "memory usage: 156.4+ KB\n"
          ],
          "name": "stdout"
        }
      ]
    },
    {
      "cell_type": "markdown",
      "metadata": {
        "_uuid": "08190d091623be566369a8cde051e67aab6796fe",
        "id": "PipZroK2Xcs0"
      },
      "source": [
        "# 2. Data Cleaning\n",
        "\n",
        "There are several stuff that we have to do before we start this sentiment analysis:\n",
        "1. remove lowercase letters\n",
        "2. remove punctuations\n",
        "3. remove stop words in English"
      ]
    },
    {
      "cell_type": "markdown",
      "metadata": {
        "id": "iUNhUiDjZ_Hi"
      },
      "source": [
        "### Remove URL & html tags"
      ]
    },
    {
      "cell_type": "code",
      "metadata": {
        "id": "yLSG8CERaDjr"
      },
      "source": [
        "import re\n",
        "\n",
        "def remove_URL(text) :\n",
        "    url = re.compile(r\"https?://\\S+|www\\.\\S+\")\n",
        "    return url.sub(r\"\",text)\n",
        "\n",
        "def remove_html(text) :\n",
        "    html= re.compile(\"<.*?>\")\n",
        "    return html.sub(r\"\",text)"
      ],
      "execution_count": 109,
      "outputs": []
    },
    {
      "cell_type": "code",
      "metadata": {
        "id": "jqDd28IzpwX-"
      },
      "source": [
        "df['comments'] = df.apply(lambda row: remove_URL(row['comments']), axis=1)\n",
        "df['comments'] = df.apply(lambda row: remove_html(row['comments']), axis=1)"
      ],
      "execution_count": 110,
      "outputs": []
    },
    {
      "cell_type": "markdown",
      "metadata": {
        "id": "aUWdFFLssBxl"
      },
      "source": [
        "### Remove Emoji"
      ]
    },
    {
      "cell_type": "code",
      "metadata": {
        "id": "UGdfUi5osG00"
      },
      "source": [
        "\n",
        "import re\n",
        "\n",
        "\n",
        "def deEmojify(text):\n",
        "    regrex_pattern = re.compile(pattern = \"[\"\n",
        "        u\"\\U0001F600-\\U0001F64F\"  # emoticons\n",
        "        u\"\\U0001F300-\\U0001F5FF\"  # symbols & pictographs\n",
        "        u\"\\U0001F680-\\U0001F6FF\"  # transport & map symbols\n",
        "        u\"\\U0001F1E0-\\U0001F1FF\"  # flags (iOS)\n",
        "                           \"]+\", flags = re.UNICODE)\n",
        "    return regrex_pattern.sub(r'',text)\n",
        "\n"
      ],
      "execution_count": 132,
      "outputs": []
    },
    {
      "cell_type": "code",
      "metadata": {
        "id": "mfreJz8WsNBi"
      },
      "source": [
        "df['comments'] = df.apply(lambda row: deEmojify(row['comments']), axis=1)"
      ],
      "execution_count": 112,
      "outputs": []
    },
    {
      "cell_type": "code",
      "metadata": {
        "colab": {
          "base_uri": "https://localhost:8080/",
          "height": 204
        },
        "id": "W7zqE1_DslY1",
        "outputId": "8084ac11-dad1-4cf8-c9ff-4d4c3fc1ff9a"
      },
      "source": [
        "df.head()"
      ],
      "execution_count": 113,
      "outputs": [
        {
          "output_type": "execute_result",
          "data": {
            "text/html": [
              "<div>\n",
              "<style scoped>\n",
              "    .dataframe tbody tr th:only-of-type {\n",
              "        vertical-align: middle;\n",
              "    }\n",
              "\n",
              "    .dataframe tbody tr th {\n",
              "        vertical-align: top;\n",
              "    }\n",
              "\n",
              "    .dataframe thead th {\n",
              "        text-align: right;\n",
              "    }\n",
              "</style>\n",
              "<table border=\"1\" class=\"dataframe\">\n",
              "  <thead>\n",
              "    <tr style=\"text-align: right;\">\n",
              "      <th></th>\n",
              "      <th>comments</th>\n",
              "      <th>0/1</th>\n",
              "    </tr>\n",
              "  </thead>\n",
              "  <tbody>\n",
              "    <tr>\n",
              "      <th>0</th>\n",
              "      <td>Addictive game Very good game, the graphics ar...</td>\n",
              "      <td>1</td>\n",
              "    </tr>\n",
              "    <tr>\n",
              "      <th>1</th>\n",
              "      <td>Where to start? I came on here because I wante...</td>\n",
              "      <td>0</td>\n",
              "    </tr>\n",
              "    <tr>\n",
              "      <th>2</th>\n",
              "      <td>Really Disappointed in this Film I have to say...</td>\n",
              "      <td>0</td>\n",
              "    </tr>\n",
              "    <tr>\n",
              "      <th>3</th>\n",
              "      <td>Rubbish game When I tried to open it, it said ...</td>\n",
              "      <td>0</td>\n",
              "    </tr>\n",
              "    <tr>\n",
              "      <th>4</th>\n",
              "      <td>One Star Come on</td>\n",
              "      <td>0</td>\n",
              "    </tr>\n",
              "  </tbody>\n",
              "</table>\n",
              "</div>"
            ],
            "text/plain": [
              "                                            comments  0/1\n",
              "0  Addictive game Very good game, the graphics ar...    1\n",
              "1  Where to start? I came on here because I wante...    0\n",
              "2  Really Disappointed in this Film I have to say...    0\n",
              "3  Rubbish game When I tried to open it, it said ...    0\n",
              "4                                   One Star Come on    0"
            ]
          },
          "metadata": {
            "tags": []
          },
          "execution_count": 113
        }
      ]
    },
    {
      "cell_type": "markdown",
      "metadata": {
        "_uuid": "79e641036a0fa9c6c8cf59c227a42658bf8500e8",
        "id": "Nz4Wms3DXcs1"
      },
      "source": [
        "## 2.1 Removing Lowercase Letters"
      ]
    },
    {
      "cell_type": "code",
      "metadata": {
        "trusted": true,
        "_uuid": "648fe566c30fd2ffa85bae8b6823cc57d15ecf48",
        "id": "AhhIIfpzXcs1"
      },
      "source": [
        "df['comments'] = df.apply(lambda row: str(row['comments']).lower(), axis=1)"
      ],
      "execution_count": 114,
      "outputs": []
    },
    {
      "cell_type": "code",
      "metadata": {
        "trusted": true,
        "_uuid": "4a1074e3060e6c207f632da161c0300e8d78d481",
        "colab": {
          "base_uri": "https://localhost:8080/",
          "height": 204
        },
        "id": "yOa5Rgp_Xcs1",
        "outputId": "399c5275-128a-475d-dba7-0e1fdbc97695"
      },
      "source": [
        "df.head()"
      ],
      "execution_count": 115,
      "outputs": [
        {
          "output_type": "execute_result",
          "data": {
            "text/html": [
              "<div>\n",
              "<style scoped>\n",
              "    .dataframe tbody tr th:only-of-type {\n",
              "        vertical-align: middle;\n",
              "    }\n",
              "\n",
              "    .dataframe tbody tr th {\n",
              "        vertical-align: top;\n",
              "    }\n",
              "\n",
              "    .dataframe thead th {\n",
              "        text-align: right;\n",
              "    }\n",
              "</style>\n",
              "<table border=\"1\" class=\"dataframe\">\n",
              "  <thead>\n",
              "    <tr style=\"text-align: right;\">\n",
              "      <th></th>\n",
              "      <th>comments</th>\n",
              "      <th>0/1</th>\n",
              "    </tr>\n",
              "  </thead>\n",
              "  <tbody>\n",
              "    <tr>\n",
              "      <th>0</th>\n",
              "      <td>addictive game very good game, the graphics ar...</td>\n",
              "      <td>1</td>\n",
              "    </tr>\n",
              "    <tr>\n",
              "      <th>1</th>\n",
              "      <td>where to start? i came on here because i wante...</td>\n",
              "      <td>0</td>\n",
              "    </tr>\n",
              "    <tr>\n",
              "      <th>2</th>\n",
              "      <td>really disappointed in this film i have to say...</td>\n",
              "      <td>0</td>\n",
              "    </tr>\n",
              "    <tr>\n",
              "      <th>3</th>\n",
              "      <td>rubbish game when i tried to open it, it said ...</td>\n",
              "      <td>0</td>\n",
              "    </tr>\n",
              "    <tr>\n",
              "      <th>4</th>\n",
              "      <td>one star come on</td>\n",
              "      <td>0</td>\n",
              "    </tr>\n",
              "  </tbody>\n",
              "</table>\n",
              "</div>"
            ],
            "text/plain": [
              "                                            comments  0/1\n",
              "0  addictive game very good game, the graphics ar...    1\n",
              "1  where to start? i came on here because i wante...    0\n",
              "2  really disappointed in this film i have to say...    0\n",
              "3  rubbish game when i tried to open it, it said ...    0\n",
              "4                                   one star come on    0"
            ]
          },
          "metadata": {
            "tags": []
          },
          "execution_count": 115
        }
      ]
    },
    {
      "cell_type": "markdown",
      "metadata": {
        "_uuid": "18fc5b46088590e392a2a4734499dc10b04284b9",
        "id": "Ta0TgAgsXcs1"
      },
      "source": [
        "## 2.2 Removing Punctuations"
      ]
    },
    {
      "cell_type": "code",
      "metadata": {
        "trusted": true,
        "_uuid": "214017a3e621f889660d08a66d4b8b2c92b83e4b",
        "id": "uxPY5eR6Xcs1"
      },
      "source": [
        "from string import punctuation\n",
        "def remove_punctuations(string):\n",
        "    return ''.join(c for c in string if c not in punctuation)"
      ],
      "execution_count": 116,
      "outputs": []
    },
    {
      "cell_type": "code",
      "metadata": {
        "trusted": true,
        "_uuid": "a286bcefcb302f8f10839bcfa2ac3aa2922891d5",
        "id": "Qqbasvk6Xcs2"
      },
      "source": [
        "df['comments'] = df.apply(lambda row: remove_punctuations(row['comments']), axis=1)"
      ],
      "execution_count": 117,
      "outputs": []
    },
    {
      "cell_type": "code",
      "metadata": {
        "trusted": true,
        "_uuid": "8cf89e0abd1b77242a7a3dd71844e50f8fec09d6",
        "colab": {
          "base_uri": "https://localhost:8080/",
          "height": 204
        },
        "id": "_YyvJs2bXcs2",
        "outputId": "3202b896-be87-45a4-8d38-a240b41175e4"
      },
      "source": [
        "df.head()"
      ],
      "execution_count": 118,
      "outputs": [
        {
          "output_type": "execute_result",
          "data": {
            "text/html": [
              "<div>\n",
              "<style scoped>\n",
              "    .dataframe tbody tr th:only-of-type {\n",
              "        vertical-align: middle;\n",
              "    }\n",
              "\n",
              "    .dataframe tbody tr th {\n",
              "        vertical-align: top;\n",
              "    }\n",
              "\n",
              "    .dataframe thead th {\n",
              "        text-align: right;\n",
              "    }\n",
              "</style>\n",
              "<table border=\"1\" class=\"dataframe\">\n",
              "  <thead>\n",
              "    <tr style=\"text-align: right;\">\n",
              "      <th></th>\n",
              "      <th>comments</th>\n",
              "      <th>0/1</th>\n",
              "    </tr>\n",
              "  </thead>\n",
              "  <tbody>\n",
              "    <tr>\n",
              "      <th>0</th>\n",
              "      <td>addictive game very good game the graphics are...</td>\n",
              "      <td>1</td>\n",
              "    </tr>\n",
              "    <tr>\n",
              "      <th>1</th>\n",
              "      <td>where to start i came on here because i wanted...</td>\n",
              "      <td>0</td>\n",
              "    </tr>\n",
              "    <tr>\n",
              "      <th>2</th>\n",
              "      <td>really disappointed in this film i have to say...</td>\n",
              "      <td>0</td>\n",
              "    </tr>\n",
              "    <tr>\n",
              "      <th>3</th>\n",
              "      <td>rubbish game when i tried to open it it said i...</td>\n",
              "      <td>0</td>\n",
              "    </tr>\n",
              "    <tr>\n",
              "      <th>4</th>\n",
              "      <td>one star come on</td>\n",
              "      <td>0</td>\n",
              "    </tr>\n",
              "  </tbody>\n",
              "</table>\n",
              "</div>"
            ],
            "text/plain": [
              "                                            comments  0/1\n",
              "0  addictive game very good game the graphics are...    1\n",
              "1  where to start i came on here because i wanted...    0\n",
              "2  really disappointed in this film i have to say...    0\n",
              "3  rubbish game when i tried to open it it said i...    0\n",
              "4                                   one star come on    0"
            ]
          },
          "metadata": {
            "tags": []
          },
          "execution_count": 118
        }
      ]
    },
    {
      "cell_type": "markdown",
      "metadata": {
        "_uuid": "b08054757c2fd925c6dee02a01ac8658ad188be3",
        "id": "7uWt9TnJXcs2"
      },
      "source": [
        "## 2.3 Removing Stopwords & Stemming"
      ]
    },
    {
      "cell_type": "code",
      "metadata": {
        "trusted": true,
        "_uuid": "1f8bbe0f4eb95ac49a0053baa93aa32f37a04508",
        "id": "lobFragNXcs2"
      },
      "source": [
        " \n",
        "from nltk.corpus import stopwords \n",
        "from nltk.tokenize import word_tokenize\n",
        "from nltk.stem.porter import PorterStemmer\n",
        "porter = PorterStemmer()\n",
        "\n",
        "stop_words = set(stopwords.words('english'))\n",
        "\n",
        "def remove_stopwords(string):    \n",
        "    tokenized = word_tokenize(string)\n",
        "    filtered_sentence = [word for word in tokenized if not word in stop_words]\n",
        "    porter = PorterStemmer()\n",
        "    stemmed = [porter.stem(word) for word in filtered_sentence]\n",
        "    return ' '.join(c for c in stemmed)\n",
        " "
      ],
      "execution_count": 119,
      "outputs": []
    },
    {
      "cell_type": "code",
      "metadata": {
        "trusted": true,
        "_uuid": "12ed80082be4dc08cc1d8cc49ac26642c9f502c6",
        "id": "UL0Oh9LNXcs2"
      },
      "source": [
        "df['comments'] = df.apply(lambda row: remove_stopwords(row['comments']), axis=1)\n"
      ],
      "execution_count": 120,
      "outputs": []
    },
    {
      "cell_type": "code",
      "metadata": {
        "trusted": true,
        "_uuid": "b8827011cef2a7c30388e5bad642b34231201f7d",
        "colab": {
          "base_uri": "https://localhost:8080/",
          "height": 204
        },
        "id": "2mOq-AXYXcs3",
        "outputId": "919ee775-f36e-47d5-91fd-c24470c8598d"
      },
      "source": [
        "df.head()"
      ],
      "execution_count": 121,
      "outputs": [
        {
          "output_type": "execute_result",
          "data": {
            "text/html": [
              "<div>\n",
              "<style scoped>\n",
              "    .dataframe tbody tr th:only-of-type {\n",
              "        vertical-align: middle;\n",
              "    }\n",
              "\n",
              "    .dataframe tbody tr th {\n",
              "        vertical-align: top;\n",
              "    }\n",
              "\n",
              "    .dataframe thead th {\n",
              "        text-align: right;\n",
              "    }\n",
              "</style>\n",
              "<table border=\"1\" class=\"dataframe\">\n",
              "  <thead>\n",
              "    <tr style=\"text-align: right;\">\n",
              "      <th></th>\n",
              "      <th>comments</th>\n",
              "      <th>0/1</th>\n",
              "    </tr>\n",
              "  </thead>\n",
              "  <tbody>\n",
              "    <tr>\n",
              "      <th>0</th>\n",
              "      <td>addict game good game graphic brilliant great ...</td>\n",
              "      <td>1</td>\n",
              "    </tr>\n",
              "    <tr>\n",
              "      <th>1</th>\n",
              "      <td>start came want get flappi bird saw thought ba...</td>\n",
              "      <td>0</td>\n",
              "    </tr>\n",
              "    <tr>\n",
              "      <th>2</th>\n",
              "      <td>realli disappoint film say look forward remak ...</td>\n",
              "      <td>0</td>\n",
              "    </tr>\n",
              "    <tr>\n",
              "      <th>3</th>\n",
              "      <td>rubbish game tri open said stoppedfix higher rate</td>\n",
              "      <td>0</td>\n",
              "    </tr>\n",
              "    <tr>\n",
              "      <th>4</th>\n",
              "      <td>one star come</td>\n",
              "      <td>0</td>\n",
              "    </tr>\n",
              "  </tbody>\n",
              "</table>\n",
              "</div>"
            ],
            "text/plain": [
              "                                            comments  0/1\n",
              "0  addict game good game graphic brilliant great ...    1\n",
              "1  start came want get flappi bird saw thought ba...    0\n",
              "2  realli disappoint film say look forward remak ...    0\n",
              "3  rubbish game tri open said stoppedfix higher rate    0\n",
              "4                                      one star come    0"
            ]
          },
          "metadata": {
            "tags": []
          },
          "execution_count": 121
        }
      ]
    },
    {
      "cell_type": "code",
      "metadata": {
        "trusted": true,
        "_uuid": "a7cccf59f2e322e081081b3a7eae7080db1de317",
        "id": "dK61GQKpXcs3"
      },
      "source": [
        "def convert(integer):\n",
        "    if(integer == 1):\n",
        "        return 'Positive'\n",
        "    else:\n",
        "        return 'Negative'"
      ],
      "execution_count": 122,
      "outputs": []
    },
    {
      "cell_type": "code",
      "metadata": {
        "trusted": true,
        "_uuid": "b1c05111f63062c559de99fa609bd454fcd6de88",
        "id": "y-Ft7V2zXcs3"
      },
      "source": [
        "df['0/1'] = df.apply(lambda row: convert(row['0/1']), axis=1)"
      ],
      "execution_count": 123,
      "outputs": []
    },
    {
      "cell_type": "code",
      "metadata": {
        "trusted": true,
        "_uuid": "e9814f4179834cf51c2f68a1bc979943025c9af3",
        "id": "reJDOE20Xcs3"
      },
      "source": [
        "from sklearn.model_selection import train_test_split\n",
        "\n",
        "X = df['comments']\n",
        "y = df['0/1']\n",
        "\n"
      ],
      "execution_count": 124,
      "outputs": []
    },
    {
      "cell_type": "code",
      "metadata": {
        "trusted": true,
        "_uuid": "9ca1964462c428030846423627c078020256b756",
        "colab": {
          "base_uri": "https://localhost:8080/",
          "height": 204
        },
        "id": "TzNuVA5tXcs3",
        "outputId": "9bab3a38-92b6-43be-b4e9-a87855245a70"
      },
      "source": [
        "one_hot_encoded_label = pd.get_dummies(y)\n",
        "one_hot_encoded_label.head()"
      ],
      "execution_count": 125,
      "outputs": [
        {
          "output_type": "execute_result",
          "data": {
            "text/html": [
              "<div>\n",
              "<style scoped>\n",
              "    .dataframe tbody tr th:only-of-type {\n",
              "        vertical-align: middle;\n",
              "    }\n",
              "\n",
              "    .dataframe tbody tr th {\n",
              "        vertical-align: top;\n",
              "    }\n",
              "\n",
              "    .dataframe thead th {\n",
              "        text-align: right;\n",
              "    }\n",
              "</style>\n",
              "<table border=\"1\" class=\"dataframe\">\n",
              "  <thead>\n",
              "    <tr style=\"text-align: right;\">\n",
              "      <th></th>\n",
              "      <th>Negative</th>\n",
              "      <th>Positive</th>\n",
              "    </tr>\n",
              "  </thead>\n",
              "  <tbody>\n",
              "    <tr>\n",
              "      <th>0</th>\n",
              "      <td>0</td>\n",
              "      <td>1</td>\n",
              "    </tr>\n",
              "    <tr>\n",
              "      <th>1</th>\n",
              "      <td>1</td>\n",
              "      <td>0</td>\n",
              "    </tr>\n",
              "    <tr>\n",
              "      <th>2</th>\n",
              "      <td>1</td>\n",
              "      <td>0</td>\n",
              "    </tr>\n",
              "    <tr>\n",
              "      <th>3</th>\n",
              "      <td>1</td>\n",
              "      <td>0</td>\n",
              "    </tr>\n",
              "    <tr>\n",
              "      <th>4</th>\n",
              "      <td>1</td>\n",
              "      <td>0</td>\n",
              "    </tr>\n",
              "  </tbody>\n",
              "</table>\n",
              "</div>"
            ],
            "text/plain": [
              "   Negative  Positive\n",
              "0         0         1\n",
              "1         1         0\n",
              "2         1         0\n",
              "3         1         0\n",
              "4         1         0"
            ]
          },
          "metadata": {
            "tags": []
          },
          "execution_count": 125
        }
      ]
    },
    {
      "cell_type": "code",
      "metadata": {
        "trusted": true,
        "_uuid": "9d8cfb430afe2b31fd3d1dd5048b01b4539d1860",
        "id": "G50JzRBDXcs3"
      },
      "source": [
        "X_train, X_test, y_train, y_test = train_test_split(X, y, test_size = 0.25, random_state=42)"
      ],
      "execution_count": 126,
      "outputs": []
    },
    {
      "cell_type": "markdown",
      "metadata": {
        "id": "A3PiAUAvDIL6"
      },
      "source": [
        "### Count Vectorizer"
      ]
    },
    {
      "cell_type": "code",
      "metadata": {
        "trusted": true,
        "_uuid": "b2e76bc5b37504ae160c809767fa2ea9fddd714d",
        "id": "T3k0aZLqXcs4"
      },
      "source": [
        "from sklearn.feature_extraction.text import CountVectorizer\n",
        "\n",
        "vect = CountVectorizer(min_df=2, ngram_range=(1, 1))\n",
        "X_train = vect.fit(X_train).transform(X_train) \n",
        "X_test = vect.transform(X_test)"
      ],
      "execution_count": 127,
      "outputs": []
    },
    {
      "cell_type": "markdown",
      "metadata": {
        "id": "g4rDCXk_DN6-"
      },
      "source": [
        "### Logistic Regression"
      ]
    },
    {
      "cell_type": "code",
      "metadata": {
        "trusted": true,
        "_uuid": "db81b8b52f84ea6a427d3ae22e32491481cbff82",
        "colab": {
          "base_uri": "https://localhost:8080/"
        },
        "id": "0zlFIAtlXcs4",
        "outputId": "54d6c259-0479-4fd8-df4e-ab8bf9af5baa"
      },
      "source": [
        "from sklearn.linear_model import LogisticRegression\n",
        "from sklearn.metrics import accuracy_score\n",
        "\n",
        "c_val = [0.05,0.1,0.2,0.25,0.5,0.75, 1]\n",
        "\n",
        "for c in c_val:\n",
        "    logreg = LogisticRegression(C=c)\n",
        "    logreg.fit(X_train, y_train)\n",
        "    print (\"Accuracy for C=%s: %s\" % (c, accuracy_score(y_test, logreg.predict(X_test))))"
      ],
      "execution_count": 128,
      "outputs": [
        {
          "output_type": "stream",
          "text": [
            "Accuracy for C=0.05: 0.896\n",
            "Accuracy for C=0.1: 0.896\n",
            "Accuracy for C=0.2: 0.8972\n",
            "Accuracy for C=0.25: 0.896\n",
            "Accuracy for C=0.5: 0.8976\n",
            "Accuracy for C=0.75: 0.8952\n",
            "Accuracy for C=1: 0.8924\n"
          ],
          "name": "stdout"
        }
      ]
    },
    {
      "cell_type": "markdown",
      "metadata": {
        "id": "Oi9vzN3aDYY5"
      },
      "source": [
        "### Support Vector Machine"
      ]
    },
    {
      "cell_type": "code",
      "metadata": {
        "colab": {
          "base_uri": "https://localhost:8080/"
        },
        "id": "ONwoa-fW74r3",
        "outputId": "e1474e35-f3eb-48db-cb20-56733ece095a"
      },
      "source": [
        "from sklearn.svm import SVC\n",
        "classifier = SVC(random_state = 10)\n",
        "classifier.fit(X_train, y_train)\n",
        "y_pred = classifier.predict(X_test)\n",
        "from sklearn.metrics import confusion_matrix, accuracy_score\n",
        "cm = confusion_matrix(y_test, y_pred)\n",
        "cm\n",
        "accuracy_score(y_test, y_pred)"
      ],
      "execution_count": 129,
      "outputs": [
        {
          "output_type": "execute_result",
          "data": {
            "text/plain": [
              "0.898"
            ]
          },
          "metadata": {
            "tags": []
          },
          "execution_count": 129
        }
      ]
    },
    {
      "cell_type": "markdown",
      "metadata": {
        "id": "DPPleLuiDiiP"
      },
      "source": [
        "### Decision Tree Classifier"
      ]
    },
    {
      "cell_type": "code",
      "metadata": {
        "colab": {
          "base_uri": "https://localhost:8080/"
        },
        "id": "HtYydX-79HwD",
        "outputId": "2f837d70-3694-4a7c-fbae-a426a8bbe98b"
      },
      "source": [
        "from sklearn.tree import DecisionTreeClassifier\n",
        "dt_classifier = DecisionTreeClassifier(criterion ='entropy', max_depth = 10, random_state = 2)\n",
        "dt_classifier.fit(X_train, y_train)\n",
        "\n",
        "pred_train = dt_classifier.predict(X_train)\n",
        "pred_test = dt_classifier.predict(X_test)\n",
        "from sklearn.metrics import accuracy_score\n",
        "print('Training Accuracy: ', accuracy_score(y_train, pred_train))\n",
        "print('Testing Accuracy: ', accuracy_score(y_test, pred_test))\n",
        "\n",
        "from sklearn.model_selection import train_test_split\n",
        "x_train, x_test, y_train, y_test = train_test_split(X,y, test_size = 0.25, random_state = 2)\n",
        "print(x_train.shape)\n",
        "print(y_train.shape)\n",
        "print(x_test.shape)\n",
        "print(y_test.shape)"
      ],
      "execution_count": 130,
      "outputs": [
        {
          "output_type": "stream",
          "text": [
            "Training Accuracy:  0.8153087078277104\n",
            "Testing Accuracy:  0.7912\n",
            "(7499,)\n",
            "(7499,)\n",
            "(2500,)\n",
            "(2500,)\n"
          ],
          "name": "stdout"
        }
      ]
    },
    {
      "cell_type": "markdown",
      "metadata": {
        "id": "nCnUjH8SDqZE"
      },
      "source": [
        "### XGBoost Classifier"
      ]
    },
    {
      "cell_type": "code",
      "metadata": {
        "colab": {
          "base_uri": "https://localhost:8080/"
        },
        "id": "TKe0wA4W9ttB",
        "outputId": "c5a5e38b-62e4-4605-8d3b-f7b039211cab"
      },
      "source": [
        "import xgboost as xgb\n",
        "xg_classifier = xgb.XGBClassifier(n_estimators = 20)\n",
        "xg_classifier.fit(X_train, y_train)\n",
        "pred_train = xg_classifier.predict(X_train)\n",
        "pred_test = xg_classifier.predict(X_test)\n",
        "\n",
        "\n",
        "\n",
        "from sklearn.metrics import accuracy_score\n",
        "print('Training Accuracy: ', accuracy_score(y_train, pred_train))\n",
        "print('Testing Accuracy: ', accuracy_score(y_test, pred_test))\n",
        "\n"
      ],
      "execution_count": 131,
      "outputs": [
        {
          "output_type": "stream",
          "text": [
            "Training Accuracy:  0.549406587545006\n",
            "Testing Accuracy:  0.4904\n"
          ],
          "name": "stdout"
        }
      ]
    }
  ]
}