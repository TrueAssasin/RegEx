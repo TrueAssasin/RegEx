{
  "nbformat": 4,
  "nbformat_minor": 0,
  "metadata": {
    "colab": {
      "name": "Task _1.ipynb",
      "provenance": [],
      "collapsed_sections": []
    },
    "kernelspec": {
      "name": "python3",
      "display_name": "Python 3"
    },
    "language_info": {
      "name": "python"
    }
  },
  "cells": [
    {
      "cell_type": "markdown",
      "metadata": {
        "id": "aqgA-6ZuYEKo"
      },
      "source": [
        " #Task_1\n",
        "- SIRSS1194\n",
        "- Anurag Mhatre"
      ]
    },
    {
      "cell_type": "markdown",
      "metadata": {
        "id": "MSEMnotBgTBk"
      },
      "source": [
        "#1.\n",
        "###5 5 5 5 5\n",
        "###5 5 5 5\n",
        "###5 5 5\n",
        "###5 5\n",
        "###5"
      ]
    },
    {
      "cell_type": "code",
      "metadata": {
        "colab": {
          "base_uri": "https://localhost:8080/"
        },
        "id": "9zG84pZLgM8V",
        "outputId": "9dae3ca5-3eb9-49c2-e6bb-57e03a81f659"
      },
      "source": [
        "n = int(input(\"Choose a number of rows\"));\n",
        "for i in range(n,0,-1):\n",
        "  for j in range(1,i+1):\n",
        "    print(\"5\" , end =\" \");\n",
        "  print(\"\\n\");"
      ],
      "execution_count": 2,
      "outputs": [
        {
          "output_type": "stream",
          "text": [
            "Choose a number of rows5\n",
            "5 5 5 5 5 \n",
            "\n",
            "5 5 5 5 \n",
            "\n",
            "5 5 5 \n",
            "\n",
            "5 5 \n",
            "\n",
            "5 \n",
            "\n"
          ],
          "name": "stdout"
        }
      ]
    },
    {
      "cell_type": "markdown",
      "metadata": {
        "id": "eiW_xNCDi4Kd"
      },
      "source": [
        "#2.\n",
        "###0 1 2 3 4 5\n",
        "###0 1 2 3 4\n",
        "###0 1 2 3\n",
        "###0 1 2\n",
        "###0 1"
      ]
    },
    {
      "cell_type": "code",
      "metadata": {
        "colab": {
          "base_uri": "https://localhost:8080/"
        },
        "id": "mfak-yrpjBIj",
        "outputId": "1af1cba0-d244-4915-8a43-6189605a2548"
      },
      "source": [
        "n = int(input(\"Choose a number of rows\"));\n",
        "for i in range(n,0,-1):\n",
        "  for j in range(0,i+1):\n",
        "    print( j , end =\" \");\n",
        "  print(\"\\n\");"
      ],
      "execution_count": 3,
      "outputs": [
        {
          "output_type": "stream",
          "text": [
            "Choose a number of rows5\n",
            "0 1 2 3 4 5 \n",
            "\n",
            "0 1 2 3 4 \n",
            "\n",
            "0 1 2 3 \n",
            "\n",
            "0 1 2 \n",
            "\n",
            "0 1 \n",
            "\n"
          ],
          "name": "stdout"
        }
      ]
    },
    {
      "cell_type": "markdown",
      "metadata": {
        "id": "DArOQrprjYJi"
      },
      "source": [
        "#3.\n",
        "###1\n",
        "###3 3\n",
        "###5 5 5\n",
        "###7 7 7 7\n",
        "###9 9 9 9 9"
      ]
    },
    {
      "cell_type": "code",
      "metadata": {
        "colab": {
          "base_uri": "https://localhost:8080/"
        },
        "id": "l8a0TnWtjhv0",
        "outputId": "4c79a96f-f2d4-4c9a-a2cc-e2192aad459d"
      },
      "source": [
        "n = int(input(\"Choose a number of rows\"));\n",
        "i=1\n",
        "while i <= n :\n",
        "  j=1\n",
        "  while j <=i :\n",
        "    print((i * 2 - 1) , end=\" \")\n",
        "    j += 1\n",
        "  i += 1\n",
        "  print()\n",
        "\n"
      ],
      "execution_count": 4,
      "outputs": [
        {
          "output_type": "stream",
          "text": [
            "Choose a number of rows5\n",
            "1 \n",
            "3 3 \n",
            "5 5 5 \n",
            "7 7 7 7 \n",
            "9 9 9 9 9 \n"
          ],
          "name": "stdout"
        }
      ]
    },
    {
      "cell_type": "markdown",
      "metadata": {
        "id": "S7AncrVzokhW"
      },
      "source": [
        "#4.\n",
        "###1\n",
        "###2 1\n",
        "###3 2 1\n",
        "###4 3 2 1\n",
        "###5 4 3 2 1\n"
      ]
    },
    {
      "cell_type": "code",
      "metadata": {
        "colab": {
          "base_uri": "https://localhost:8080/"
        },
        "id": "hE3aNN7borft",
        "outputId": "36e975c4-9c25-4135-fc0c-1737a32e9e20"
      },
      "source": [
        "n = int(input(\"Enter  rows: \"))\n",
        "for i in range(0, n+1):      #columns\n",
        "    for j in range(i,0,-1):  #rows\n",
        "      print(j, end=' ')\n",
        "    print()\n",
        "    "
      ],
      "execution_count": 5,
      "outputs": [
        {
          "output_type": "stream",
          "text": [
            "Enter  rows: 5\n",
            "\n",
            "1 \n",
            "2 1 \n",
            "3 2 1 \n",
            "4 3 2 1 \n",
            "5 4 3 2 1 \n"
          ],
          "name": "stdout"
        }
      ]
    },
    {
      "cell_type": "markdown",
      "metadata": {
        "id": "LPrNrdYrrnEW"
      },
      "source": [
        "#5.\n",
        "###1\n",
        "###3 2\n",
        "###6 5 4\n",
        "###10 9 8 7"
      ]
    },
    {
      "cell_type": "code",
      "metadata": {
        "colab": {
          "base_uri": "https://localhost:8080/"
        },
        "id": "7bxdKcTKr0RO",
        "outputId": "e88a5241-3783-45b8-92b8-3ebddaf83071"
      },
      "source": [
        "  a = 1\n",
        "  b = 2\n",
        "  n = b\n",
        "  for r in range(2,6):\n",
        "    for c in range(a,b):\n",
        "      n -= 1\n",
        "      print(n , end = \" \")\n",
        "    print(\"\")\n",
        "    a = b\n",
        "    b += r\n",
        "    n = b "
      ],
      "execution_count": 6,
      "outputs": [
        {
          "output_type": "stream",
          "text": [
            "1 \n",
            "3 2 \n",
            "6 5 4 \n",
            "10 9 8 7 \n"
          ],
          "name": "stdout"
        }
      ]
    },
    {
      "cell_type": "markdown",
      "metadata": {
        "id": "79YzukpSu-yY"
      },
      "source": [
        "#6.\n",
        "###1\n",
        "###1 1\n",
        "###1 2 1\n",
        "###1 3 3 1\n",
        "###1 4 6 4 1\n",
        "###1 5 10 10 5 1\n",
        "###1 6 15 20 15 6 1"
      ]
    },
    {
      "cell_type": "code",
      "metadata": {
        "id": "anzd7767w884",
        "colab": {
          "base_uri": "https://localhost:8080/"
        },
        "outputId": "ec83f85b-9c6b-48eb-bed6-2b77de2fe11b"
      },
      "source": [
        "def triangle(size):\n",
        "    for i in range(0, size):\n",
        "        for j in range(0, i + 1):\n",
        "            print(decide_no(i, j), end=\" \")\n",
        "        print()\n",
        "\n",
        "\n",
        "def decide_no(n, k):\n",
        "    num = 1\n",
        "    if k > n - k:\n",
        "        k = n - k\n",
        "    for i in range(0, k):\n",
        "        num = num * (n - i)\n",
        "        num = num // (i + 1)\n",
        "    return num\n",
        "\n",
        "rows = 7\n",
        "triangle(rows)"
      ],
      "execution_count": 7,
      "outputs": [
        {
          "output_type": "stream",
          "text": [
            "1 \n",
            "1 1 \n",
            "1 2 1 \n",
            "1 3 3 1 \n",
            "1 4 6 4 1 \n",
            "1 5 10 10 5 1 \n",
            "1 6 15 20 15 6 1 \n"
          ],
          "name": "stdout"
        }
      ]
    },
    {
      "cell_type": "markdown",
      "metadata": {
        "id": "KGNcmBI4w9c_"
      },
      "source": [
        "#7.\n",
        "###1 2 3 4 5\n",
        "###2 2 3 4 5\n",
        "###3 3 3 4 5\n",
        "###4 4 4 4 5\n",
        "###5 5 5 5 5\n"
      ]
    },
    {
      "cell_type": "code",
      "metadata": {
        "colab": {
          "base_uri": "https://localhost:8080/"
        },
        "id": "B14BywOjxHCf",
        "outputId": "58f6b6ef-76b5-4d62-f59a-950fe76ea67e"
      },
      "source": [
        "n = int(input(\"Enter the number of rows:\"))\n",
        "for i in range(1, n+1):\n",
        "  for j in range(1, n+1):\n",
        "    if j<=i:\n",
        "      print(i,end=' ')\n",
        "    else:\n",
        "      print(j,end=\" \")\n",
        "  print()"
      ],
      "execution_count": 8,
      "outputs": [
        {
          "output_type": "stream",
          "text": [
            "Enter the number of rows:5\n",
            "1 2 3 4 5 \n",
            "2 2 3 4 5 \n",
            "3 3 3 4 5 \n",
            "4 4 4 4 5 \n",
            "5 5 5 5 5 \n"
          ],
          "name": "stdout"
        }
      ]
    },
    {
      "cell_type": "markdown",
      "metadata": {
        "id": "eUslMm5PRHpS"
      },
      "source": [
        "###8.\n",
        "###1\n",
        "###2 4\n",
        "###3 6 9\n",
        "###4 8 12 16\n",
        "###5 10 15 20 25\n",
        "###6 12 18 24 30 36\n",
        "###7 14 21 28 35 42 49\n",
        "###8 16 24 32 40 48 56 64"
      ]
    },
    {
      "cell_type": "code",
      "metadata": {
        "colab": {
          "base_uri": "https://localhost:8080/"
        },
        "id": "vsmGsWHDRhLT",
        "outputId": "372a10eb-ab17-4c67-e375-5a862d3acc37"
      },
      "source": [
        "n = int(input(\"Enter the rows:\"))\n",
        "for i in range(1, n+1):\n",
        "  for j in range(1, i+1):\n",
        "    print(i*j, end=' ')\n",
        "  print()"
      ],
      "execution_count": 9,
      "outputs": [
        {
          "output_type": "stream",
          "text": [
            "Enter the rows:5\n",
            "1 \n",
            "2 4 \n",
            "3 6 9 \n",
            "4 8 12 16 \n",
            "5 10 15 20 25 \n"
          ],
          "name": "stdout"
        }
      ]
    },
    {
      "cell_type": "markdown",
      "metadata": {
        "id": "yb44cwM6SB0f"
      },
      "source": [
        "###9.\n",
        "        * * * * * *  \n",
        "         * * * * *  \n",
        "          * * * *  \n",
        "           * * *  \n",
        "            * *  \n",
        "             *"
      ]
    },
    {
      "cell_type": "code",
      "metadata": {
        "colab": {
          "base_uri": "https://localhost:8080/"
        },
        "id": "YlXM2R2eSU8K",
        "outputId": "ba471eed-2e04-45f6-8b27-d6ec3f1c11a3"
      },
      "source": [
        "n = 5\n",
        "k = 2*n-2\n",
        "for i in range(n, -1, -1):\n",
        "    for j in range(k, 0, -1):\n",
        "        print(end=\" \")\n",
        "    k = k + 1\n",
        "    for j in range(0, i + 1):\n",
        "        print(\"*\", end=\" \")\n",
        "    print(\" \")"
      ],
      "execution_count": 10,
      "outputs": [
        {
          "output_type": "stream",
          "text": [
            "        * * * * * *  \n",
            "         * * * * *  \n",
            "          * * * *  \n",
            "           * * *  \n",
            "            * *  \n",
            "             *  \n"
          ],
          "name": "stdout"
        }
      ]
    },
    {
      "cell_type": "markdown",
      "metadata": {
        "id": "1C9TICCSTWfT"
      },
      "source": [
        "###10\n",
        "              *  \n",
        "             * *  \n",
        "            * * *  \n",
        "           * * * *  \n",
        "          * * * * *  \n",
        "         * * * * * *  \n",
        "        * * * * * * *  \n",
        "       * * * * * * * *"
      ]
    },
    {
      "cell_type": "code",
      "metadata": {
        "colab": {
          "base_uri": "https://localhost:8080/"
        },
        "id": "2Yj1K8-5Trzb",
        "outputId": "2f7203d7-ef9f-4540-d491-4878000f6034"
      },
      "source": [
        "n = int(input(\"Enter rows:\"))\n",
        "m = 2*n-2\n",
        "for i in range(0,n):\n",
        "    for j in range(0,m):\n",
        "        print(end=\" \")\n",
        "    m = m-1\n",
        "    for j in range(0, i + 1):\n",
        "        print(\"*\", end=\" \")\n",
        "    print(\" \")"
      ],
      "execution_count": 12,
      "outputs": [
        {
          "output_type": "stream",
          "text": [
            "Enter rows:8\n",
            "              *  \n",
            "             * *  \n",
            "            * * *  \n",
            "           * * * *  \n",
            "          * * * * *  \n",
            "         * * * * * *  \n",
            "        * * * * * * *  \n",
            "       * * * * * * * *  \n"
          ],
          "name": "stdout"
        }
      ]
    },
    {
      "cell_type": "markdown",
      "metadata": {
        "id": "x96vqD81TN6G"
      },
      "source": [
        "###11."
      ]
    },
    {
      "cell_type": "code",
      "metadata": {
        "colab": {
          "base_uri": "https://localhost:8080/"
        },
        "id": "sb3JpUFzSlTr",
        "outputId": "61235cdf-5ab9-4578-fd52-97b474b5ab02"
      },
      "source": [
        "n = int(input(\"Enter rows:\"))\n",
        "\n",
        "#1st pattern\n",
        "\n",
        "for i in range(0,n):\n",
        "  for j in range(0,i+1):\n",
        "    print(\"*\",end=\" \")\n",
        "  print(\" \")\n",
        "\n",
        "print(\"                 \")\n",
        "#2nd pattern\n",
        "for i in range(n+1,0,-1):\n",
        "  for j in range(0,i-1):\n",
        "    print(\"*\",end=\" \")\n",
        "  print(\" \")"
      ],
      "execution_count": 13,
      "outputs": [
        {
          "output_type": "stream",
          "text": [
            "Enter rows:7\n",
            "*  \n",
            "* *  \n",
            "* * *  \n",
            "* * * *  \n",
            "* * * * *  \n",
            "* * * * * *  \n",
            "* * * * * * *  \n",
            "                 \n",
            "* * * * * * *  \n",
            "* * * * * *  \n",
            "* * * * *  \n",
            "* * * *  \n",
            "* * *  \n",
            "* *  \n",
            "*  \n",
            " \n"
          ],
          "name": "stdout"
        }
      ]
    },
    {
      "cell_type": "markdown",
      "metadata": {
        "id": "vMPvj6VQT4_g"
      },
      "source": [
        "###12.\n",
        " \n"
      ]
    },
    {
      "cell_type": "code",
      "metadata": {
        "colab": {
          "base_uri": "https://localhost:8080/"
        },
        "id": "_w66iTSNUyXn",
        "outputId": "d0ed8541-2ac0-476c-f636-5e0402a25a98"
      },
      "source": [
        "rows = 5\n",
        "for i in range(5):\n",
        "    for j in range(i):\n",
        "        print(\"*\", end=' ')\n",
        "    print()\n",
        "\n",
        "for k in range(5, 0, -1):\n",
        "    for l in range(k, 0, -1):\n",
        "        print(\"*\", end=' ')\n",
        "    print()"
      ],
      "execution_count": 14,
      "outputs": [
        {
          "output_type": "stream",
          "text": [
            "\n",
            "* \n",
            "* * \n",
            "* * * \n",
            "* * * * \n",
            "* * * * * \n",
            "* * * * \n",
            "* * * \n",
            "* * \n",
            "* \n"
          ],
          "name": "stdout"
        }
      ]
    },
    {
      "cell_type": "markdown",
      "metadata": {
        "id": "hG-cLrhpU3zn"
      },
      "source": [
        "###13.\n"
      ]
    },
    {
      "cell_type": "code",
      "metadata": {
        "colab": {
          "base_uri": "https://localhost:8080/"
        },
        "id": "UA_MpwGMU7NL",
        "outputId": "ed6ae94f-e953-4397-9074-267222f27f8c"
      },
      "source": [
        "rows = 5\n",
        "i = 1\n",
        "while i <= rows:\n",
        "    j = i\n",
        "    while j < rows:\n",
        "        # display space\n",
        "        print(' ', end=' ')\n",
        "        j += 1\n",
        "    k = 1\n",
        "    while k <= i:\n",
        "        print('*', end=' ')\n",
        "        k += 1\n",
        "    print()\n",
        "    i += 1\n",
        "\n",
        "i = rows\n",
        "while i >= 1:\n",
        "    j = i\n",
        "    while j <= rows:\n",
        "        print(' ', end=' ')\n",
        "        j += 1\n",
        "    k = 1\n",
        "    while k < i:\n",
        "        print('*', end=' ')\n",
        "        k += 1\n",
        "    print('')\n",
        "    i -= 1"
      ],
      "execution_count": 15,
      "outputs": [
        {
          "output_type": "stream",
          "text": [
            "        * \n",
            "      * * \n",
            "    * * * \n",
            "  * * * * \n",
            "* * * * * \n",
            "  * * * * \n",
            "    * * * \n",
            "      * * \n",
            "        * \n",
            "          \n"
          ],
          "name": "stdout"
        }
      ]
    },
    {
      "cell_type": "markdown",
      "metadata": {
        "id": "nXQonNkEV0td"
      },
      "source": [
        "###14.\n"
      ]
    },
    {
      "cell_type": "code",
      "metadata": {
        "colab": {
          "base_uri": "https://localhost:8080/"
        },
        "id": "nez_qxrcV64Y",
        "outputId": "70feb90b-2b54-425c-a8b4-57089482ee31"
      },
      "source": [
        "row = int(input(\"Enter number rows:\"))\n",
        "k = rows-2\n",
        "for i in range(rows, -1, -1):\n",
        "    for j in range(k, 0, -1):\n",
        "        print(end=\" \")\n",
        "    k = k+1\n",
        "    for j in range(0, i+1):\n",
        "        print(\"*\", end=\" \")\n",
        "    print()\n",
        "    \n",
        "k = 2*rows -2\n",
        "for i in range(0, rows+1):\n",
        "    for j in range(0,k):\n",
        "        print(end=\" \")\n",
        "    k = k-1\n",
        "    for j in range(0, i+1):\n",
        "        print('*', end=\" \")\n",
        "    print()"
      ],
      "execution_count": 16,
      "outputs": [
        {
          "output_type": "stream",
          "text": [
            "Enter number rows:5\n",
            "   * * * * * * \n",
            "    * * * * * \n",
            "     * * * * \n",
            "      * * * \n",
            "       * * \n",
            "        * \n",
            "        * \n",
            "       * * \n",
            "      * * * \n",
            "     * * * * \n",
            "    * * * * * \n",
            "   * * * * * * \n"
          ],
          "name": "stdout"
        }
      ]
    },
    {
      "cell_type": "markdown",
      "metadata": {
        "id": "CoWcfGzCWSPb"
      },
      "source": [
        "###15."
      ]
    },
    {
      "cell_type": "code",
      "metadata": {
        "colab": {
          "base_uri": "https://localhost:8080/"
        },
        "id": "MBfPD1blWWL4",
        "outputId": "4c202639-6bae-427c-8b68-b17e18a25f63"
      },
      "source": [
        "rows = 14\n",
        "print(\"*\" * rows, end=\"\\n\")\n",
        "i = (rows // 2) - 1\n",
        "j = 2\n",
        "while i != 0:\n",
        "    while j <= (rows - 2):\n",
        "        print(\"*\" * i, end=\"\")\n",
        "        print(\"_\" * j, end=\"\")\n",
        "        print(\"*\" * i, end=\"\\n\")\n",
        "        i = i - 1\n",
        "        j = j + 2"
      ],
      "execution_count": 17,
      "outputs": [
        {
          "output_type": "stream",
          "text": [
            "**************\n",
            "******__******\n",
            "*****____*****\n",
            "****______****\n",
            "***________***\n",
            "**__________**\n",
            "*____________*\n"
          ],
          "name": "stdout"
        }
      ]
    }
  ]
}