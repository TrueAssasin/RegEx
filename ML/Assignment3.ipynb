{
  "nbformat": 4,
  "nbformat_minor": 0,
  "metadata": {
    "colab": {
      "name": "Assignment3.ipynb",
      "provenance": [],
      "collapsed_sections": []
    },
    "kernelspec": {
      "name": "python3",
      "display_name": "Python 3"
    },
    "language_info": {
      "name": "python"
    }
  },
  "cells": [
    {
      "cell_type": "markdown",
      "metadata": {
        "id": "qFWYnKdKEgCh"
      },
      "source": [
        "#Task_3\n",
        "\n",
        "SIRSS1194\n",
        "\n",
        "Anurag Mhatre"
      ]
    },
    {
      "cell_type": "markdown",
      "metadata": {
        "id": "EUvZp-gq8vbv"
      },
      "source": [
        "Q1. Write a function to return nth term of Fibonacci sequence."
      ]
    },
    {
      "cell_type": "code",
      "metadata": {
        "colab": {
          "base_uri": "https://localhost:8080/"
        },
        "id": "GGJnnAEV8t0I",
        "outputId": "eaf49fea-ea5b-41c1-b937-2735395f7dcb"
      },
      "source": [
        "def fibonacci(n):\n",
        "    if n < 0:\n",
        "        print(\"Enter Positive integers only.\")\n",
        "    elif n == 1:\n",
        "        return 0\n",
        "    elif n == 2:\n",
        "        return 1\n",
        "    else:\n",
        "        return fibonacci(n-1)+fibonacci(n-2)\n",
        "\n",
        "\n",
        "num = int(input(\"enter value of n: \"))\n",
        "print(\"nth term Fibonacci is\" , fibonacci(num))"
      ],
      "execution_count": null,
      "outputs": [
        {
          "output_type": "stream",
          "text": [
            "enter value of n: 6\n",
            "nth term Fibonacci is 5\n"
          ],
          "name": "stdout"
        }
      ]
    },
    {
      "cell_type": "markdown",
      "metadata": {
        "id": "IcoU0nku84x0"
      },
      "source": [
        "Q2. Write a function to find out GCD of two numbers using EUCLID'S algorithm."
      ]
    },
    {
      "cell_type": "code",
      "metadata": {
        "colab": {
          "base_uri": "https://localhost:8080/"
        },
        "id": "NAJAMciP87Vu",
        "outputId": "bccfa919-b833-45aa-bed5-6c496dba1af6"
      },
      "source": [
        "def gcd(n1, n2) :\n",
        "    if n2 == 0 :\n",
        "        return n1\n",
        "    else :\n",
        "        return gcd(n2, n1 % n2)\n",
        "        \n",
        "n1 = int(input(\"Enter 1st Number : \"))\n",
        "n2 = int(input(\"Enter 2nd Number : \"))\n",
        "\n",
        "print(f\"GCD of ({n1},{n2}) = \", gcd(n1,n2))"
      ],
      "execution_count": null,
      "outputs": [
        {
          "output_type": "stream",
          "text": [
            "Enter first Number : 2\n",
            "Enter second Number : 3\n",
            "GCD of (2,3) =  1\n"
          ],
          "name": "stdout"
        }
      ]
    },
    {
      "cell_type": "markdown",
      "metadata": {
        "id": "cCPONoAb9IZj"
      },
      "source": [
        "Q3. Write a function to find LCM of two number in most optimizers way."
      ]
    },
    {
      "cell_type": "code",
      "metadata": {
        "colab": {
          "base_uri": "https://localhost:8080/"
        },
        "id": "PSvzxlrM9MA9",
        "outputId": "76030ad6-4347-41f3-ac3b-7bbf2386508d"
      },
      "source": [
        "def gcd(n1, n2) :\n",
        "    if n2 == 0 :\n",
        "        return n1\n",
        "    else :\n",
        "        return gcd(n2, n1 % n2)\n",
        "    \n",
        "def lcm(n1, n2) :\n",
        "    return (n1 / gcd(n1,n2)) * n2\n",
        "\n",
        "n1 = int(input(\"Enter 1st Number : \"))\n",
        "n2 = int(input(\"Enter 2nd Number : \"))\n",
        "\n",
        "print(f\"LCM of ({inp1},{inp2}) = \", lcm(n1,n2))"
      ],
      "execution_count": null,
      "outputs": [
        {
          "output_type": "stream",
          "text": [
            "Enter 1st Number : 2\n",
            "Enter 2nd Number : 3\n",
            "LCM of (2,3) =  6.0\n"
          ],
          "name": "stdout"
        }
      ]
    }
  ]
}