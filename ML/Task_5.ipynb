{
  "nbformat": 4,
  "nbformat_minor": 0,
  "metadata": {
    "colab": {
      "name": "Task_5.ipynb",
      "provenance": [],
      "collapsed_sections": []
    },
    "kernelspec": {
      "name": "python3",
      "display_name": "Python 3"
    },
    "language_info": {
      "name": "python"
    }
  },
  "cells": [
    {
      "cell_type": "markdown",
      "metadata": {
        "id": "5OYecXOvidFK"
      },
      "source": [
        "Name : Anurag Mhatre\n",
        "\n",
        "SIRSS1194\n",
        "\n",
        "Task 5\n"
      ]
    },
    {
      "cell_type": "markdown",
      "metadata": {
        "id": "LG8oHqtygLqh"
      },
      "source": [
        "Q1. Given a list of integers, write a function to return the sum of all prime numbers in that list."
      ]
    },
    {
      "cell_type": "code",
      "metadata": {
        "id": "6xuYfHdlQixn",
        "colab": {
          "base_uri": "https://localhost:8080/"
        },
        "outputId": "4061b42e-1a66-4497-ad9a-9dc1548f7e21"
      },
      "source": [
        "lower = int(input(\"Enter the lower range: \"))\n",
        "upper = int(input(\"Enter the upper range: \"))\n",
        "lst=[]\n",
        "print(\"Prime numbers between\",lower,\"and\",upper,\"are:\")\n",
        "\n",
        "for number in range(lower,upper + 1):\n",
        "\n",
        "   if number > 1:\n",
        "       for i in range(2,number):\n",
        "           if (number % i) == 0:\n",
        "\n",
        "               break\n",
        "       else:\n",
        "           print(number)\n",
        "           lst.append(number)\n",
        "print(lst)\n",
        "sum=0\n",
        "for i in lst:\n",
        "    sum=sum+i\n",
        "print('sum of all prime numbers in the list are : %d'%sum)"
      ],
      "execution_count": 10,
      "outputs": [
        {
          "output_type": "stream",
          "text": [
            "Enter the lower range: 5\n",
            "Enter the upper range: 20\n",
            "Prime numbers between 5 and 20 are:\n",
            "5\n",
            "7\n",
            "11\n",
            "13\n",
            "17\n",
            "19\n",
            "[5, 7, 11, 13, 17, 19]\n",
            "sum of all prime numbers in the list are : 72\n"
          ],
          "name": "stdout"
        }
      ]
    },
    {
      "cell_type": "markdown",
      "metadata": {
        "id": "Fbg1wJerhGzG"
      },
      "source": [
        "Q2. Given a list of integers, write a function to check whether the list is strictly increasing or\n",
        "not."
      ]
    },
    {
      "cell_type": "code",
      "metadata": {
        "id": "OuTRhznWeuIB",
        "colab": {
          "base_uri": "https://localhost:8080/"
        },
        "outputId": "30068fc5-7d2c-40f6-d258-9817cbe6d003"
      },
      "source": [
        "4\n",
        "a = int(input(\"Enter 1st no.\"))\n",
        "b = int(input(\"Enter 2st no.\"))\n",
        "c = int(input(\"Enter 3st no.\"))\n",
        "d = int(input(\"Enter 4st no.\"))\n",
        "\n",
        "test_list = a,b,c,d;\n",
        "\n",
        "# to print original list\n",
        "print (\"Original list : \" + str(test_list))\n",
        "\n",
        "# to check for strictly increasing list\n",
        "res = all(i < j for i, j in zip(test_list, test_list[1:]))\n",
        "5\n",
        "\n",
        "print (\"Is the list strictly increasing ? -: \" + str(res))\n"
      ],
      "execution_count": 11,
      "outputs": [
        {
          "output_type": "stream",
          "text": [
            "Enter 1st no.1\n",
            "Enter 2st no.2\n",
            "Enter 3st no.3\n",
            "Enter 4st no.4\n",
            "Original list : (1, 2, 3, 4)\n",
            "Is the list strictly increasing ? -: True\n"
          ],
          "name": "stdout"
        }
      ]
    },
    {
      "cell_type": "markdown",
      "metadata": {
        "id": "yJSRtXwvaXHS"
      },
      "source": [
        "Q3.Write a function to check whether a given list is expanding or not (the difference\n",
        "between adjacent elements should keep on increasing)."
      ]
    },
    {
      "cell_type": "code",
      "metadata": {
        "id": "su_frL4GaXr5",
        "colab": {
          "base_uri": "https://localhost:8080/"
        },
        "outputId": "2febb2e3-e777-4312-d265-9b1228c3ce60"
      },
      "source": [
        "def exp(l):\n",
        "    diff=0\n",
        "    flag=False\n",
        "    for i in range(1,len(l)):\n",
        "        diff1=l[i]-l[i-1]\n",
        "        if diff>diff1:\n",
        "            flag=True\n",
        "            break\n",
        "        diff=diff1\n",
        "            \n",
        "    return  flag\n",
        "\n",
        "l1 = int(input(\"Enter no. of elements : \"))\n",
        "  \n",
        "list1 = list(map(int,input(\"\\nEnter the nos. : \").strip().split()))[:l1]\n",
        "\n",
        "print('List is expanding: ',exp(list1))"
      ],
      "execution_count": 12,
      "outputs": [
        {
          "output_type": "stream",
          "text": [
            "Enter no. of elements : 5\n",
            "\n",
            "Enter the nos. : 10 9 7 6 5\n",
            "List is expanding:  True\n"
          ],
          "name": "stdout"
        }
      ]
    },
    {
      "cell_type": "markdown",
      "metadata": {
        "id": "rnzv9wpaQaJ1"
      },
      "source": [
        "Q4.Write a function to calculate all permutations of a given string. (Without using itertools)\n",
        "\n",
        "\n"
      ]
    },
    {
      "cell_type": "code",
      "metadata": {
        "colab": {
          "base_uri": "https://localhost:8080/"
        },
        "id": "XAtYkMovQ-9k",
        "outputId": "8d2a04f4-3b66-48c6-b564-da598a04815e"
      },
      "source": [
        "def perm(string, steps = 0):\n",
        "    if steps == len(string):\n",
        "        print(\"\".join(string))\n",
        "\n",
        "    for i in range(steps, len(string)):\n",
        "\n",
        "        string_copy = [character for character in string]\n",
        "\n",
        "        string_copy[steps], string_copy[i] = string_copy[i], string_copy[steps]\n",
        "\n",
        "        perm(string_copy, steps + 1)\n",
        "perm(str(input(\"Enter the char.: \")))"
      ],
      "execution_count": 13,
      "outputs": [
        {
          "output_type": "stream",
          "text": [
            "Enter the char.: abc\n",
            "abc\n",
            "acb\n",
            "bac\n",
            "bca\n",
            "cba\n",
            "cab\n"
          ],
          "name": "stdout"
        }
      ]
    }
  ]
}