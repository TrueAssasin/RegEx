{
  "nbformat": 4,
  "nbformat_minor": 0,
  "metadata": {
    "colab": {
      "name": "Task_2.ipynb",
      "provenance": []
    },
    "kernelspec": {
      "name": "python3",
      "display_name": "Python 3"
    },
    "language_info": {
      "name": "python"
    }
  },
  "cells": [
    {
      "cell_type": "markdown",
      "metadata": {
        "id": "bY5opXbcKIVp"
      },
      "source": [
        "#Task_2\n",
        "\n",
        "SIRSS1194\n",
        "\n",
        "Anurag Mhatre"
      ]
    },
    {
      "cell_type": "markdown",
      "metadata": {
        "id": "pUPIHbiRyLn6"
      },
      "source": [
        "Question 1\n"
      ]
    },
    {
      "cell_type": "markdown",
      "metadata": {
        "id": "Dh3dkTaDJMe4"
      },
      "source": [
        ""
      ]
    },
    {
      "cell_type": "code",
      "metadata": {
        "colab": {
          "base_uri": "https://localhost:8080/",
          "height": 35
        },
        "id": "8M-PeECyu8aA",
        "outputId": "f5705a41-ece6-49d8-c3d3-69b407a4d882"
      },
      "source": [
        "# lambda expression to extract first word of a string.\n",
        "\n",
        "x = lambda a : a.split()[0][0]\n",
        "    \n",
        "x('Hello')"
      ],
      "execution_count": 6,
      "outputs": [
        {
          "output_type": "execute_result",
          "data": {
            "application/vnd.google.colaboratory.intrinsic+json": {
              "type": "string"
            },
            "text/plain": [
              "'H'"
            ]
          },
          "metadata": {
            "tags": []
          },
          "execution_count": 6
        }
      ]
    },
    {
      "cell_type": "markdown",
      "metadata": {
        "id": "F_7MutInyPaa"
      },
      "source": [
        "Question 2"
      ]
    },
    {
      "cell_type": "code",
      "metadata": {
        "colab": {
          "base_uri": "https://localhost:8080/",
          "height": 35
        },
        "id": "cblRcRbAyRA-",
        "outputId": "60429086-410a-4a72-c727-ad3da3e0f07f"
      },
      "source": [
        "# lambda expression to extract first word of a string.\n",
        "\n",
        "x = lambda a : a.split()[0]\n",
        "\n",
        "x('How are you ?')\n"
      ],
      "execution_count": 7,
      "outputs": [
        {
          "output_type": "execute_result",
          "data": {
            "application/vnd.google.colaboratory.intrinsic+json": {
              "type": "string"
            },
            "text/plain": [
              "'How'"
            ]
          },
          "metadata": {
            "tags": []
          },
          "execution_count": 7
        }
      ]
    },
    {
      "cell_type": "markdown",
      "metadata": {
        "id": "20GRJusDyinZ"
      },
      "source": [
        "Question 3"
      ]
    },
    {
      "cell_type": "code",
      "metadata": {
        "colab": {
          "base_uri": "https://localhost:8080/"
        },
        "id": "VKpaROjOykYy",
        "outputId": "2c27a040-079d-48e2-d635-f64f56acefa3"
      },
      "source": [
        "#Getting first word of all the strings using map function.\n",
        "\n",
        "lst = ['Hi','How are you ?','I am fine !']\n",
        "\n",
        "list(map(x, lst))"
      ],
      "execution_count": 8,
      "outputs": [
        {
          "output_type": "execute_result",
          "data": {
            "text/plain": [
              "['Hi', 'How', 'I']"
            ]
          },
          "metadata": {
            "tags": []
          },
          "execution_count": 8
        }
      ]
    },
    {
      "cell_type": "markdown",
      "metadata": {
        "id": "gDhMuJxyyrpy"
      },
      "source": [
        "Question 4"
      ]
    },
    {
      "cell_type": "code",
      "metadata": {
        "colab": {
          "base_uri": "https://localhost:8080/"
        },
        "id": "x_m3VrOqytoK",
        "outputId": "d211f7f5-6f1e-4b35-ec44-a6930e2fb8e9"
      },
      "source": [
        "import math\n",
        "\n",
        "def check_prime(x):\n",
        "    \"\"\"Function accept a number and check if the number is prime or not\"\"\"\n",
        "    \n",
        "    for i in range(2,x):\n",
        "        if x % i == 0:\n",
        "            flag = False\n",
        "            break\n",
        "        else:\n",
        "            flag = True\n",
        "        \n",
        "    return flag\n",
        "\n",
        "#function to return a list of prime factors of given number!\n",
        "def prime_factor(x):\n",
        "    \"\"\"Function accepts a number and returns list of prime factors for it\"\"\"\n",
        "    factors = []\n",
        "    check = check_prime(x)\n",
        "    if not(check):\n",
        "        i = 2\n",
        "        while i <= x:            \n",
        "            if(x % i == 0):\n",
        "                factors.append(i)\n",
        "                x = math.floor(x // i)\n",
        "            else: \n",
        "                i += 1\n",
        "\n",
        "    else:\n",
        "        factors.append('Prime number')\n",
        "        \n",
        "    return factors\n",
        "\n",
        "prime_factor(120)"
      ],
      "execution_count": 9,
      "outputs": [
        {
          "output_type": "execute_result",
          "data": {
            "text/plain": [
              "[2, 2, 2, 3, 5]"
            ]
          },
          "metadata": {
            "tags": []
          },
          "execution_count": 9
        }
      ]
    },
    {
      "cell_type": "markdown",
      "metadata": {
        "id": "QXMKZABkyvwJ"
      },
      "source": [
        "Question 5"
      ]
    },
    {
      "cell_type": "code",
      "metadata": {
        "colab": {
          "base_uri": "https://localhost:8080/"
        },
        "id": "SCgFhYcQyxCh",
        "outputId": "375da016-b188-40b3-867d-df6067d324ba"
      },
      "source": [
        "#function to find 2nd largest among 4 numbers (Repetitions are allowed,without sorting).\n",
        "\n",
        "lst = [23,2,23,2]\n",
        "def remove_element(lst,element):\n",
        "    lst.remove(element)\n",
        "    return lst\n",
        "\n",
        "def second_largest(lst):\n",
        "    \"\"\"Function take list of the numeber and finds 2nd largest among them\"\"\"\n",
        "    \n",
        "    for j in range(3):\n",
        "        lar = lst[0]\n",
        "        for i in range(len(lst)):\n",
        "            if lst[i] > lar:\n",
        "                lar = lst[i]\n",
        "                \n",
        "        if j != 2:\n",
        "            lst = remove_element(lst,lar)\n",
        "#         print(lst)\n",
        "    \n",
        "    return lar\n",
        "        \n",
        "second_largest(lst)"
      ],
      "execution_count": 10,
      "outputs": [
        {
          "output_type": "execute_result",
          "data": {
            "text/plain": [
              "2"
            ]
          },
          "metadata": {
            "tags": []
          },
          "execution_count": 10
        }
      ]
    }
  ]
}